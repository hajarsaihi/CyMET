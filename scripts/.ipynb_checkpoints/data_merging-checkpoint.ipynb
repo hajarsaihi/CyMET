{
 "cells": [
  {
   "cell_type": "code",
   "execution_count": 29,
   "id": "spiritual-preparation",
   "metadata": {},
   "outputs": [],
   "source": [
    "import pandas as pd\n",
    "import glob\n",
    "\n",
    "params = ['CD3','CD19','HLA-DR','CD14','CD56','CD16','CD4','CD8','CD66b','CD27']\n",
    "\n",
    "def process_data(df1, study):\n",
    "    print('   processing: '+study)\n",
    "    origdf = df1\n",
    "    import ast\n",
    "    '''process new datasets to prepare for classification'''\n",
    "    try:\n",
    "        df1=df1[params] # attempt to extract features\n",
    "\n",
    "    except KeyError as e: # catch errors for missing features\n",
    "        arg = e.args[0][0:-13] #the key for the missing marker\n",
    "        arg = ast.literal_eval(arg) # convert the string of markers into list\n",
    "\n",
    "        for x in arg:\n",
    "            print('      '+x+' is missing - replaced with 0')\n",
    "            df1[x] = [0] * len(df1) # replace missing values with zero\n",
    "        df1=df1[params]\n",
    "        \n",
    "    proc_df = df1[params]\n",
    "    proc_df['study'] = [study]*len(proc_df)\n",
    "    proc_df['file'] = list(origdf.file)\n",
    "    \n",
    "    return proc_df\n",
    "\n",
    "def combined_frame(path_to_files, dataset_names): \n",
    "    '''provide the path to the cytometry studies and add the name of each dataset for reference'''\n",
    "    print('(1) importing files ...')\n",
    "    full_path = path_to_files+'*.csv'\n",
    "    files = glob.glob(full_path)\n",
    "    print(list(files))\n",
    "    print('files imported!')\n",
    "    print('\\n')\n",
    "    \n",
    "    li = [] # new list to concatenate dataframes\n",
    "    print('(2) combining files ...')\n",
    "    for f,name in zip(files, dataset_names):\n",
    "        df_tmp = pd.read_csv(f).rename(columns={\"sample\": \"file\"})\n",
    "        df = process_data(df_tmp, name)\n",
    "        li.append(df)\n",
    "    \n",
    "    frame = pd.concat(li, axis=0, ignore_index=True)\n",
    "    print('files combined!')\n",
    "    return frame"
   ]
  }
 ],
 "metadata": {
  "kernelspec": {
   "display_name": "Python 3",
   "language": "python",
   "name": "python3"
  },
  "language_info": {
   "codemirror_mode": {
    "name": "ipython",
    "version": 3
   },
   "file_extension": ".py",
   "mimetype": "text/x-python",
   "name": "python",
   "nbconvert_exporter": "python",
   "pygments_lexer": "ipython3",
   "version": "3.9.5"
  }
 },
 "nbformat": 4,
 "nbformat_minor": 5
}
