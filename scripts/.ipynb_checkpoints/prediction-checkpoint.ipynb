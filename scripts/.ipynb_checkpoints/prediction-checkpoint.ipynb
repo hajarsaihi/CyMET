{
 "cells": [
  {
   "cell_type": "code",
   "execution_count": null,
   "id": "dimensional-dover",
   "metadata": {},
   "outputs": [],
   "source": [
    "def predict_cells(frame):\n",
    "    '''run single cell prediction of immune cells'''\n",
    "    li = []; y_pred = [] #empty lists\n",
    "    studies = list(frame.study.unique()) #studies in the dataframe\n",
    "    print(studies)\n",
    "    c=0\n",
    "    for f in studies:\n",
    "        c=c+1\n",
    "        print('Predicting: ', f, '|',c,' out of ', len(studies))\n",
    "        params = ['CD3','CD19','HLA-DR','CD14','CD56','CD16','CD4','CD8','CD66b','CD27']\n",
    "        temp = frame[frame.study == f][params] #extract features\n",
    "        print('number of cells in training:', temp.shape[0])\n",
    "        \n",
    "        pred = model.predict(temp, verbose=1) #run prediction\n",
    "        y_pred.append(pred)\n",
    "        temp['overall_pred']=[x+1 for x in pred.argmax(axis=1)] #\n",
    "        #temp['score']\n",
    "        \n",
    "        li.append(temp)\n",
    "        print('      done.')\n",
    "        print('\\n')\n",
    "        \n",
    "    final_pred = np.concatenate(y_pred)\n",
    "    print('Cells successfully predicted!')\n",
    "    return final_pred"
   ]
  }
 ],
 "metadata": {
  "kernelspec": {
   "display_name": "Python 3",
   "language": "python",
   "name": "python3"
  },
  "language_info": {
   "codemirror_mode": {
    "name": "ipython",
    "version": 3
   },
   "file_extension": ".py",
   "mimetype": "text/x-python",
   "name": "python",
   "nbconvert_exporter": "python",
   "pygments_lexer": "ipython3",
   "version": "3.9.5"
  }
 },
 "nbformat": 4,
 "nbformat_minor": 5
}
