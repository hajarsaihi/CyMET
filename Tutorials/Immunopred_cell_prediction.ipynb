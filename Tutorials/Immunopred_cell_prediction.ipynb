{
 "cells": [
  {
   "cell_type": "markdown",
   "id": "popular-chrome",
   "metadata": {},
   "source": [
    "### (1) Load Required Packages"
   ]
  },
  {
   "cell_type": "code",
   "execution_count": null,
   "id": "noticed-vatican",
   "metadata": {},
   "outputs": [],
   "source": [
    "from tensorflow.keras.models import model_from_json"
   ]
  },
  {
   "cell_type": "markdown",
   "id": "ancient-accounting",
   "metadata": {},
   "source": [
    "### (2) Load Data"
   ]
  },
  {
   "cell_type": "code",
   "execution_count": null,
   "id": "taken-finance",
   "metadata": {},
   "outputs": [],
   "source": []
  },
  {
   "cell_type": "markdown",
   "id": "fewer-collins",
   "metadata": {},
   "source": [
    "### (3) Load Immunopred Model"
   ]
  },
  {
   "cell_type": "code",
   "execution_count": 5,
   "id": "numeric-accountability",
   "metadata": {},
   "outputs": [
    {
     "name": "stdout",
     "output_type": "stream",
     "text": [
      "Immunopred Successfully Loaded!\n"
     ]
    }
   ],
   "source": [
    "from tensorflow.keras.models import model_from_json #load required packages\n",
    "json_file = open('/home/hajar/Dropbox/phd1/CyMET/Immunopred/model.json', 'r') #open the model\n",
    "model_tmp = json_file.read() #read the file\n",
    "json_file.close() #close the file\n",
    "\n",
    "model = model_from_json(model_tmp)\n",
    "model.load_weights('/home/hajar/Dropbox/phd1/CyMET/Immunopred/model_weights.h5')\n",
    "\n",
    "print(\"Immunopred Successfully Loaded!\")"
   ]
  },
  {
   "cell_type": "code",
   "execution_count": null,
   "id": "raised-garbage",
   "metadata": {},
   "outputs": [],
   "source": []
  }
 ],
 "metadata": {
  "kernelspec": {
   "display_name": "Python 3",
   "language": "python",
   "name": "python3"
  },
  "language_info": {
   "codemirror_mode": {
    "name": "ipython",
    "version": 3
   },
   "file_extension": ".py",
   "mimetype": "text/x-python",
   "name": "python",
   "nbconvert_exporter": "python",
   "pygments_lexer": "ipython3",
   "version": "3.9.5"
  }
 },
 "nbformat": 4,
 "nbformat_minor": 5
}
