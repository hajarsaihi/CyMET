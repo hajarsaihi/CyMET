{
 "cells": [
  {
   "cell_type": "markdown",
   "id": "popular-chrome",
   "metadata": {},
   "source": [
    "### (1) Load Required Packages"
   ]
  },
  {
   "cell_type": "code",
   "execution_count": 2,
   "id": "noticed-vatican",
   "metadata": {},
   "outputs": [],
   "source": [
    "from tensorflow.keras.models import model_from_json\n",
    "#from source.data_processing import process_data\n",
    "import numpy as np\n",
    "import pandas as pd\n",
    "import glob"
   ]
  },
  {
   "cell_type": "markdown",
   "id": "ancient-accounting",
   "metadata": {},
   "source": [
    "### (2) Load Data"
   ]
  },
  {
   "cell_type": "code",
   "execution_count": null,
   "id": "taken-finance",
   "metadata": {},
   "outputs": [],
   "source": [
    "names = ['arthur','Z2RC']\n",
    "frame = combined_frame('/home/hajar/Dropbox/phd1/CyMET/data/', names)"
   ]
  },
  {
   "cell_type": "markdown",
   "id": "fewer-collins",
   "metadata": {},
   "source": [
    "### (3) Load Immunopred Model"
   ]
  },
  {
   "cell_type": "code",
   "execution_count": 5,
   "id": "numeric-accountability",
   "metadata": {},
   "outputs": [
    {
     "name": "stdout",
     "output_type": "stream",
     "text": [
      "Immunopred Successfully Loaded!\n"
     ]
    }
   ],
   "source": [
    "from tensorflow.keras.models import model_from_json #load required packages\n",
    "json_file = open('/home/hajar/Dropbox/phd1/CyMET/immunopred/model.json', 'r') #open the model\n",
    "model_tmp = json_file.read() #read the file\n",
    "json_file.close() #close the file\n",
    "\n",
    "model = model_from_json(model_tmp) # load model weights\n",
    "model.load_weights('/home/hajar/Dropbox/phd1/CyMET/immunopred/model_weights.h5')\n",
    "\n",
    "print(\"Immunopred Successfully Loaded!\")"
   ]
  },
  {
   "cell_type": "markdown",
   "id": "applied-haven",
   "metadata": {},
   "source": [
    "### (4) Run Cell Prediction"
   ]
  },
  {
   "cell_type": "code",
   "execution_count": null,
   "id": "through-artwork",
   "metadata": {},
   "outputs": [],
   "source": [
    "samp_df = frame.sample(100).reset_index(drop=True)\n",
    "y_pred = predict_cells(samp_df) #gives you the prediction confidence for each cell type\n",
    "\n",
    "preds = y_pred.argmax(axis=1) #gives you the actual cell type with highest confidence\n",
    "samp_df['cell_type'] = preds # map the cell type number to name!\n",
    "\n",
    "#get the confidence score for final prediction:\n",
    "scores = []\n",
    "for x,y in zip(samp_df.index, preds):\n",
    "    sc = y_pred[x][y] #index and then the position of the highest score\n",
    "    scores.append(sc)\n",
    "samp_df['score'] = scores\n",
    "samp_df"
   ]
  },
  {
   "cell_type": "markdown",
   "id": "compatible-complexity",
   "metadata": {},
   "source": [
    "### (5) Summarise predictions at the sample level"
   ]
  },
  {
   "cell_type": "code",
   "execution_count": null,
   "id": "extreme-copper",
   "metadata": {},
   "outputs": [],
   "source": [
    "### count the number of healthy and disease samples\n",
    "hea = []; cov = []; \n",
    "for F in samp_df.file.unique():\n",
    "    if ('COV' in F) or ('_CV' in F) or ('AP' in F) or ('Covid' in F):\n",
    "        cov.append(F)\n",
    "    else:\n",
    "        hea.append(F)\n",
    "        \n",
    "print('number of healthy samples: ',len(hea))\n",
    "print('number of disease samples: ',len(cov))\n",
    "\n",
    "### append the condition names to each row in the dataframe\n",
    "nam = []\n",
    "for F in samp_df.file:\n",
    "    if F in cov:\n",
    "        nam.append('covid')\n",
    "    else:\n",
    "        nam.append('healthy')\n",
    "\n",
    "samp_df['state'] = nam\n",
    "samp_df.head(5)"
   ]
  },
  {
   "cell_type": "code",
   "execution_count": null,
   "id": "proved-antigua",
   "metadata": {},
   "outputs": [],
   "source": [
    "### convert data from wide to long format ready for statistical analysis in R\n",
    "filt = samp_df #[final_df.score >= 0.8] #cant set one filtering threshold, its individual for cells\n",
    "tokeep = ['cell_type', 'state', 'file']\n",
    "temp = filt[tokeep].groupby(['file', 'cell_type']).agg(['count'])\n",
    "temp = temp / temp.groupby(level=0).sum()\n",
    "\n",
    "## sort out the data in the right format\n",
    "prop = list(temp.loc[:, 'state']['count'])\n",
    "file = list(temp.index.get_level_values(0))\n",
    "nam2 = []\n",
    "for F in file:\n",
    "    if F in l2:\n",
    "        nam2.append('covid')\n",
    "    else:\n",
    "        nam2.append('healthy')\n",
    "pred = list(temp.index.get_level_values(1))\n",
    "state = nam2\n",
    "\n",
    "proportion_df = pd.DataFrame(list(zip(prop, file, pred, state)), columns =['len', 'file', 'cluster', 'supp'])\n",
    "proportion_df.head(10)"
   ]
  }
 ],
 "metadata": {
  "kernelspec": {
   "display_name": "Python 3",
   "language": "python",
   "name": "python3"
  },
  "language_info": {
   "codemirror_mode": {
    "name": "ipython",
    "version": 3
   },
   "file_extension": ".py",
   "mimetype": "text/x-python",
   "name": "python",
   "nbconvert_exporter": "python",
   "pygments_lexer": "ipython3",
   "version": "3.9.5"
  }
 },
 "nbformat": 4,
 "nbformat_minor": 5
}
