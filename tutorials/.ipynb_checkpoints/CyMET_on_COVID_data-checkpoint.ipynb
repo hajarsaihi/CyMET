{
 "cells": [
  {
   "cell_type": "markdown",
   "id": "popular-chrome",
   "metadata": {},
   "source": [
    "### (1) Load Required Packages"
   ]
  },
  {
   "cell_type": "code",
   "execution_count": 1,
   "id": "noticed-vatican",
   "metadata": {},
   "outputs": [],
   "source": [
    "from tensorflow.keras.models import model_from_json\n",
    "#from source.data_processing import process_data\n",
    "import numpy as np\n",
    "import pandas as pd\n",
    "import glob"
   ]
  },
  {
   "cell_type": "code",
   "execution_count": 27,
   "id": "eastern-enlargement",
   "metadata": {},
   "outputs": [],
   "source": [
    "## Supress warnings\n",
    "import warnings\n",
    "warnings.filterwarnings('ignore')"
   ]
  },
  {
   "cell_type": "markdown",
   "id": "ancient-accounting",
   "metadata": {},
   "source": [
    "### (2) Load Data"
   ]
  },
  {
   "cell_type": "code",
   "execution_count": 2,
   "id": "taken-finance",
   "metadata": {},
   "outputs": [
    {
     "name": "stderr",
     "output_type": "stream",
     "text": [
      "/usr/lib/python3/dist-packages/numpy/lib/arraysetops.py:580: FutureWarning: elementwise comparison failed; returning scalar instead, but in the future will perform elementwise comparison\n",
      "  mask |= (ar1 == a)\n"
     ]
    }
   ],
   "source": [
    "df1 = pd.read_csv('/home/hajar/Dropbox/phd1/CyMET/data/Z2RC.csv', index_col=0).sample(1000)\n",
    "df1['batch'] = [1]*len(df1)\n",
    "\n",
    "df2 = pd.read_csv('/home/hajar/Dropbox/phd1/CyMET/data/arthur.csv', index_col=0).sample(1000)\n",
    "df2['batch'] = [2]*len(df2)"
   ]
  },
  {
   "cell_type": "markdown",
   "id": "second-jersey",
   "metadata": {},
   "source": [
    "### (3) Overlapping markers between studies"
   ]
  },
  {
   "cell_type": "code",
   "execution_count": 3,
   "id": "supreme-cotton",
   "metadata": {},
   "outputs": [
    {
     "name": "stdout",
     "output_type": "stream",
     "text": [
      "['TCRgd', 'CD27', 'CD127', 'CD38', 'CD16', 'CD19', 'HLA-DR', 'CD14', 'CD45RO', 'CD3', 'CD8', 'batch', 'CD25', 'CD11c', 'CCR7', 'CD4', 'CD56', 'CD57', 'sample', 'CD28', 'CD161']\n"
     ]
    }
   ],
   "source": [
    "## (1) find matching markers across all panels\n",
    "p1 = list(df1)\n",
    "p2 = list(df2)\n",
    "overlap = list(set.intersection(*map(set, [p1, p2])))\n",
    "print(overlap) #the shared markers between the two studies"
   ]
  },
  {
   "cell_type": "markdown",
   "id": "spiritual-stack",
   "metadata": {},
   "source": [
    "### (4) Prepare data for batch correction \n",
    "(requirements for CyCombine include the condition and the batch ID)"
   ]
  },
  {
   "cell_type": "code",
   "execution_count": 4,
   "id": "associate-weather",
   "metadata": {},
   "outputs": [],
   "source": [
    "df1 = df1[overlap]; df2 = df2[overlap]\n",
    "frame = pd.concat([df1, df2]).reset_index(drop=True).rename(columns={\"sample\": \"file\"}) "
   ]
  },
  {
   "cell_type": "code",
   "execution_count": 5,
   "id": "attended-baking",
   "metadata": {},
   "outputs": [
    {
     "name": "stdout",
     "output_type": "stream",
     "text": [
      "number of healthy samples:  44\n",
      "number of disease samples:  25\n"
     ]
    }
   ],
   "source": [
    "### count the number of healthy and disease samples\n",
    "hea = []; cov = []; \n",
    "for F in frame.file.unique():\n",
    "    if ('COV' in F) or ('_CV' in F) or ('AP' in F) or ('Covid' in F):\n",
    "        cov.append(F)\n",
    "    else:\n",
    "        hea.append(F)\n",
    "        \n",
    "print('number of healthy samples: ',len(hea))\n",
    "print('number of disease samples: ',len(cov))"
   ]
  },
  {
   "cell_type": "code",
   "execution_count": 6,
   "id": "swiss-reception",
   "metadata": {},
   "outputs": [],
   "source": [
    "cond = []\n",
    "for F in frame.file:\n",
    "    if F in cov:\n",
    "        cond.append('healthy')\n",
    "    else:\n",
    "        cond.append('disease')\n",
    "frame['condition'] = cond"
   ]
  },
  {
   "cell_type": "code",
   "execution_count": 7,
   "id": "auburn-lloyd",
   "metadata": {},
   "outputs": [
    {
     "data": {
      "text/html": [
       "<div>\n",
       "<style scoped>\n",
       "    .dataframe tbody tr th:only-of-type {\n",
       "        vertical-align: middle;\n",
       "    }\n",
       "\n",
       "    .dataframe tbody tr th {\n",
       "        vertical-align: top;\n",
       "    }\n",
       "\n",
       "    .dataframe thead th {\n",
       "        text-align: right;\n",
       "    }\n",
       "</style>\n",
       "<table border=\"1\" class=\"dataframe\">\n",
       "  <thead>\n",
       "    <tr style=\"text-align: right;\">\n",
       "      <th></th>\n",
       "      <th>TCRgd</th>\n",
       "      <th>CD27</th>\n",
       "      <th>CD127</th>\n",
       "      <th>CD38</th>\n",
       "      <th>CD16</th>\n",
       "      <th>CD19</th>\n",
       "      <th>HLA-DR</th>\n",
       "      <th>CD14</th>\n",
       "      <th>CD45RO</th>\n",
       "      <th>CD3</th>\n",
       "      <th>...</th>\n",
       "      <th>CD25</th>\n",
       "      <th>CD11c</th>\n",
       "      <th>CCR7</th>\n",
       "      <th>CD4</th>\n",
       "      <th>CD56</th>\n",
       "      <th>CD57</th>\n",
       "      <th>sample</th>\n",
       "      <th>CD28</th>\n",
       "      <th>CD161</th>\n",
       "      <th>condition</th>\n",
       "    </tr>\n",
       "  </thead>\n",
       "  <tbody>\n",
       "    <tr>\n",
       "      <th>428</th>\n",
       "      <td>0.000000</td>\n",
       "      <td>0.000000</td>\n",
       "      <td>0.667143</td>\n",
       "      <td>0.0</td>\n",
       "      <td>0.897032</td>\n",
       "      <td>2.985953</td>\n",
       "      <td>0.000000</td>\n",
       "      <td>0.000000</td>\n",
       "      <td>0.000000</td>\n",
       "      <td>0.000000</td>\n",
       "      <td>...</td>\n",
       "      <td>0.000000</td>\n",
       "      <td>0.000000</td>\n",
       "      <td>1.187743</td>\n",
       "      <td>0.000000</td>\n",
       "      <td>0.219101</td>\n",
       "      <td>0.000000</td>\n",
       "      <td>CP-01_CyTOF_CD45</td>\n",
       "      <td>0.000000</td>\n",
       "      <td>0.000000</td>\n",
       "      <td>disease</td>\n",
       "    </tr>\n",
       "    <tr>\n",
       "      <th>184</th>\n",
       "      <td>0.330026</td>\n",
       "      <td>0.000000</td>\n",
       "      <td>0.967860</td>\n",
       "      <td>0.0</td>\n",
       "      <td>0.000000</td>\n",
       "      <td>0.021406</td>\n",
       "      <td>0.000000</td>\n",
       "      <td>3.513145</td>\n",
       "      <td>0.077981</td>\n",
       "      <td>3.607296</td>\n",
       "      <td>...</td>\n",
       "      <td>0.197574</td>\n",
       "      <td>0.314896</td>\n",
       "      <td>0.000000</td>\n",
       "      <td>0.000000</td>\n",
       "      <td>0.818437</td>\n",
       "      <td>6.194184</td>\n",
       "      <td>HC-04_CyTOF_CD45</td>\n",
       "      <td>0.000000</td>\n",
       "      <td>0.000000</td>\n",
       "      <td>disease</td>\n",
       "    </tr>\n",
       "    <tr>\n",
       "      <th>1601</th>\n",
       "      <td>0.000000</td>\n",
       "      <td>2.138342</td>\n",
       "      <td>0.695839</td>\n",
       "      <td>0.0</td>\n",
       "      <td>0.632442</td>\n",
       "      <td>0.000000</td>\n",
       "      <td>0.298995</td>\n",
       "      <td>0.000000</td>\n",
       "      <td>0.695993</td>\n",
       "      <td>1.949126</td>\n",
       "      <td>...</td>\n",
       "      <td>0.000000</td>\n",
       "      <td>0.043175</td>\n",
       "      <td>0.881228</td>\n",
       "      <td>0.000000</td>\n",
       "      <td>0.046441</td>\n",
       "      <td>0.108603</td>\n",
       "      <td>r/200514_Barcode_1_B02</td>\n",
       "      <td>2.007482</td>\n",
       "      <td>0.161986</td>\n",
       "      <td>disease</td>\n",
       "    </tr>\n",
       "    <tr>\n",
       "      <th>1105</th>\n",
       "      <td>0.686036</td>\n",
       "      <td>0.000000</td>\n",
       "      <td>0.000000</td>\n",
       "      <td>0.0</td>\n",
       "      <td>2.625585</td>\n",
       "      <td>0.000000</td>\n",
       "      <td>0.327197</td>\n",
       "      <td>0.178850</td>\n",
       "      <td>0.000000</td>\n",
       "      <td>0.282896</td>\n",
       "      <td>...</td>\n",
       "      <td>0.177988</td>\n",
       "      <td>0.449518</td>\n",
       "      <td>0.423015</td>\n",
       "      <td>0.000000</td>\n",
       "      <td>3.252565</td>\n",
       "      <td>4.645685</td>\n",
       "      <td>r/200812_Barcode_10_anchor_F07</td>\n",
       "      <td>0.377723</td>\n",
       "      <td>1.120411</td>\n",
       "      <td>disease</td>\n",
       "    </tr>\n",
       "    <tr>\n",
       "      <th>104</th>\n",
       "      <td>0.000000</td>\n",
       "      <td>1.463077</td>\n",
       "      <td>3.393292</td>\n",
       "      <td>0.0</td>\n",
       "      <td>0.000000</td>\n",
       "      <td>0.000000</td>\n",
       "      <td>0.563519</td>\n",
       "      <td>0.429522</td>\n",
       "      <td>2.091100</td>\n",
       "      <td>3.314120</td>\n",
       "      <td>...</td>\n",
       "      <td>0.000000</td>\n",
       "      <td>0.000000</td>\n",
       "      <td>0.715992</td>\n",
       "      <td>0.374919</td>\n",
       "      <td>0.641154</td>\n",
       "      <td>0.000000</td>\n",
       "      <td>HC-01_CyTOF_CD45</td>\n",
       "      <td>0.287985</td>\n",
       "      <td>3.804778</td>\n",
       "      <td>disease</td>\n",
       "    </tr>\n",
       "  </tbody>\n",
       "</table>\n",
       "<p>5 rows × 22 columns</p>\n",
       "</div>"
      ],
      "text/plain": [
       "         TCRgd      CD27     CD127  CD38      CD16      CD19    HLA-DR  \\\n",
       "428   0.000000  0.000000  0.667143   0.0  0.897032  2.985953  0.000000   \n",
       "184   0.330026  0.000000  0.967860   0.0  0.000000  0.021406  0.000000   \n",
       "1601  0.000000  2.138342  0.695839   0.0  0.632442  0.000000  0.298995   \n",
       "1105  0.686036  0.000000  0.000000   0.0  2.625585  0.000000  0.327197   \n",
       "104   0.000000  1.463077  3.393292   0.0  0.000000  0.000000  0.563519   \n",
       "\n",
       "          CD14    CD45RO       CD3  ...      CD25     CD11c      CCR7  \\\n",
       "428   0.000000  0.000000  0.000000  ...  0.000000  0.000000  1.187743   \n",
       "184   3.513145  0.077981  3.607296  ...  0.197574  0.314896  0.000000   \n",
       "1601  0.000000  0.695993  1.949126  ...  0.000000  0.043175  0.881228   \n",
       "1105  0.178850  0.000000  0.282896  ...  0.177988  0.449518  0.423015   \n",
       "104   0.429522  2.091100  3.314120  ...  0.000000  0.000000  0.715992   \n",
       "\n",
       "           CD4      CD56      CD57                          sample      CD28  \\\n",
       "428   0.000000  0.219101  0.000000                CP-01_CyTOF_CD45  0.000000   \n",
       "184   0.000000  0.818437  6.194184                HC-04_CyTOF_CD45  0.000000   \n",
       "1601  0.000000  0.046441  0.108603          r/200514_Barcode_1_B02  2.007482   \n",
       "1105  0.000000  3.252565  4.645685  r/200812_Barcode_10_anchor_F07  0.377723   \n",
       "104   0.374919  0.641154  0.000000                HC-01_CyTOF_CD45  0.287985   \n",
       "\n",
       "         CD161  condition  \n",
       "428   0.000000    disease  \n",
       "184   0.000000    disease  \n",
       "1601  0.161986    disease  \n",
       "1105  1.120411    disease  \n",
       "104   3.804778    disease  \n",
       "\n",
       "[5 rows x 22 columns]"
      ]
     },
     "execution_count": 7,
     "metadata": {},
     "output_type": "execute_result"
    }
   ],
   "source": [
    "frame = frame.rename(columns={\"file\": \"sample\"}) #needs to be renamed for cycombine\n",
    "frame.sample(5)"
   ]
  },
  {
   "cell_type": "code",
   "execution_count": 8,
   "id": "careful-astrology",
   "metadata": {},
   "outputs": [],
   "source": [
    "#frame.to_csv('/home/hajar/Dropbox/phd1/CyMET/data/data_uncorrected.csv')"
   ]
  },
  {
   "cell_type": "markdown",
   "id": "eligible-dover",
   "metadata": {},
   "source": [
    "### (5) cyCombine Batch Correction \n",
    "Derived from R"
   ]
  },
  {
   "cell_type": "code",
   "execution_count": 10,
   "id": "scenic-perry",
   "metadata": {},
   "outputs": [],
   "source": [
    "%load_ext rpy2.ipython\n",
    "\n",
    "frame = frame\n",
    "overlap = overlap"
   ]
  },
  {
   "cell_type": "code",
   "execution_count": 11,
   "id": "built-romance",
   "metadata": {
    "collapsed": true
   },
   "outputs": [
    {
     "name": "stderr",
     "output_type": "stream",
     "text": [
      "R[write to console]: Creating SOM grid..\n",
      "\n",
      "R[write to console]: Ranking expression data..\n",
      "\n",
      "R[write to console]: Batch correcting data..\n",
      "\n",
      "R[write to console]: Correcting Label group 1\n",
      "\n",
      "R[write to console]: Found2batches\n",
      "\n",
      "R[write to console]: Adjusting for1covariate(s) or covariate level(s)\n",
      "\n",
      "R[write to console]: Standardizing Data across genes\n",
      "\n",
      "R[write to console]: Fitting L/S model and finding priors\n",
      "\n",
      "R[write to console]: Finding parametric adjustments\n",
      "\n",
      "R[write to console]: Adjusting the Data\n",
      "\n",
      "\n",
      "R[write to console]: Correcting Label group 2\n",
      "\n"
     ]
    },
    {
     "name": "stdout",
     "output_type": "stream",
     "text": [
      "Found 3 genes with uniform expression within a single batch (all zeros); these will not be adjusted for batch.\n"
     ]
    },
    {
     "name": "stderr",
     "output_type": "stream",
     "text": [
      "R[write to console]: Found2batches\n",
      "\n",
      "R[write to console]: Adjusting for1covariate(s) or covariate level(s)\n",
      "\n",
      "R[write to console]: Standardizing Data across genes\n",
      "\n",
      "R[write to console]: Fitting L/S model and finding priors\n",
      "\n",
      "R[write to console]: Finding parametric adjustments\n",
      "\n",
      "R[write to console]: Adjusting the Data\n",
      "\n",
      "\n",
      "R[write to console]: Label group 3 only contains cells from batch 1\n",
      "\n",
      "R[write to console]: Correcting Label group 4\n",
      "\n"
     ]
    },
    {
     "name": "stdout",
     "output_type": "stream",
     "text": [
      "Found 1 genes with uniform expression within a single batch (all zeros); these will not be adjusted for batch.\n"
     ]
    },
    {
     "name": "stderr",
     "output_type": "stream",
     "text": [
      "R[write to console]: Found2batches\n",
      "\n",
      "R[write to console]: Adjusting for0covariate(s) or covariate level(s)\n",
      "\n",
      "R[write to console]: Standardizing Data across genes\n",
      "\n",
      "R[write to console]: Fitting L/S model and finding priors\n",
      "\n",
      "R[write to console]: Finding parametric adjustments\n",
      "\n",
      "R[write to console]: Adjusting the Data\n",
      "\n",
      "\n",
      "R[write to console]: Correcting Label group 5\n",
      "\n"
     ]
    },
    {
     "name": "stdout",
     "output_type": "stream",
     "text": [
      "Found 2 genes with uniform expression within a single batch (all zeros); these will not be adjusted for batch.\n"
     ]
    },
    {
     "name": "stderr",
     "output_type": "stream",
     "text": [
      "R[write to console]: Found2batches\n",
      "\n",
      "R[write to console]: Adjusting for0covariate(s) or covariate level(s)\n",
      "\n",
      "R[write to console]: Standardizing Data across genes\n",
      "\n",
      "R[write to console]: Fitting L/S model and finding priors\n",
      "\n",
      "R[write to console]: Finding parametric adjustments\n",
      "\n",
      "R[write to console]: Adjusting the Data\n",
      "\n",
      "\n",
      "R[write to console]: Correcting Label group 6\n",
      "\n"
     ]
    },
    {
     "name": "stdout",
     "output_type": "stream",
     "text": [
      "Found 5 genes with uniform expression within a single batch (all zeros); these will not be adjusted for batch.\n"
     ]
    },
    {
     "name": "stderr",
     "output_type": "stream",
     "text": [
      "R[write to console]: Found2batches\n",
      "\n",
      "R[write to console]: Adjusting for0covariate(s) or covariate level(s)\n",
      "\n",
      "R[write to console]: Standardizing Data across genes\n",
      "\n",
      "R[write to console]: Fitting L/S model and finding priors\n",
      "\n",
      "R[write to console]: Finding parametric adjustments\n",
      "\n",
      "R[write to console]: Adjusting the Data\n",
      "\n",
      "\n",
      "R[write to console]: Correcting Label group 7\n",
      "\n"
     ]
    },
    {
     "name": "stdout",
     "output_type": "stream",
     "text": [
      "Found 1 genes with uniform expression within a single batch (all zeros); these will not be adjusted for batch.\n"
     ]
    },
    {
     "name": "stderr",
     "output_type": "stream",
     "text": [
      "R[write to console]: Found2batches\n",
      "\n",
      "R[write to console]: Adjusting for0covariate(s) or covariate level(s)\n",
      "\n",
      "R[write to console]: Standardizing Data across genes\n",
      "\n",
      "R[write to console]: Fitting L/S model and finding priors\n",
      "\n",
      "R[write to console]: Finding parametric adjustments\n",
      "\n",
      "R[write to console]: Adjusting the Data\n",
      "\n",
      "\n",
      "R[write to console]: Correcting Label group 8\n",
      "\n",
      "R[write to console]: Found2batches\n",
      "\n",
      "R[write to console]: Adjusting for1covariate(s) or covariate level(s)\n",
      "\n",
      "R[write to console]: Standardizing Data across genes\n",
      "\n",
      "R[write to console]: Fitting L/S model and finding priors\n",
      "\n",
      "R[write to console]: Finding parametric adjustments\n",
      "\n",
      "R[write to console]: Adjusting the Data\n",
      "\n",
      "\n",
      "R[write to console]: Correcting Label group 9\n",
      "\n"
     ]
    },
    {
     "name": "stdout",
     "output_type": "stream",
     "text": [
      "Found 2 genes with uniform expression within a single batch (all zeros); these will not be adjusted for batch.\n"
     ]
    },
    {
     "name": "stderr",
     "output_type": "stream",
     "text": [
      "R[write to console]: Found2batches\n",
      "\n",
      "R[write to console]: Adjusting for0covariate(s) or covariate level(s)\n",
      "\n",
      "R[write to console]: Standardizing Data across genes\n",
      "\n",
      "R[write to console]: Fitting L/S model and finding priors\n",
      "\n",
      "R[write to console]: Finding parametric adjustments\n",
      "\n",
      "R[write to console]: Adjusting the Data\n",
      "\n",
      "\n",
      "R[write to console]: Correcting Label group 10\n",
      "\n",
      "R[write to console]: Found2batches\n",
      "\n",
      "R[write to console]: Adjusting for1covariate(s) or covariate level(s)\n",
      "\n",
      "R[write to console]: Standardizing Data across genes\n",
      "\n",
      "R[write to console]: Fitting L/S model and finding priors\n",
      "\n",
      "R[write to console]: Finding parametric adjustments\n",
      "\n",
      "R[write to console]: Adjusting the Data\n",
      "\n",
      "\n",
      "R[write to console]: Correcting Label group 11\n",
      "\n"
     ]
    },
    {
     "name": "stdout",
     "output_type": "stream",
     "text": [
      "Found 2 genes with uniform expression within a single batch (all zeros); these will not be adjusted for batch.\n"
     ]
    },
    {
     "name": "stderr",
     "output_type": "stream",
     "text": [
      "R[write to console]: Found2batches\n",
      "\n",
      "R[write to console]: Adjusting for0covariate(s) or covariate level(s)\n",
      "\n",
      "R[write to console]: Standardizing Data across genes\n",
      "\n",
      "R[write to console]: Fitting L/S model and finding priors\n",
      "\n",
      "R[write to console]: Finding parametric adjustments\n",
      "\n",
      "R[write to console]: Adjusting the Data\n",
      "\n",
      "\n",
      "R[write to console]: Correcting Label group 12\n",
      "\n"
     ]
    },
    {
     "name": "stdout",
     "output_type": "stream",
     "text": [
      "Found 2 genes with uniform expression within a single batch (all zeros); these will not be adjusted for batch.\n"
     ]
    },
    {
     "name": "stderr",
     "output_type": "stream",
     "text": [
      "R[write to console]: Using the 'mean only' version of ComBat\n",
      "\n",
      "R[write to console]: Found2batches\n",
      "\n",
      "R[write to console]: Note: one batch has only one sample, setting mean.only=TRUE\n",
      "\n",
      "R[write to console]: Adjusting for0covariate(s) or covariate level(s)\n",
      "\n",
      "R[write to console]: Standardizing Data across genes\n",
      "\n",
      "R[write to console]: Fitting L/S model and finding priors\n",
      "\n",
      "R[write to console]: Finding parametric adjustments\n",
      "\n",
      "R[write to console]: Adjusting the Data\n",
      "\n",
      "\n",
      "R[write to console]: Correcting Label group 13\n",
      "\n"
     ]
    },
    {
     "name": "stdout",
     "output_type": "stream",
     "text": [
      "Found 2 genes with uniform expression within a single batch (all zeros); these will not be adjusted for batch.\n"
     ]
    },
    {
     "name": "stderr",
     "output_type": "stream",
     "text": [
      "R[write to console]: Using the 'mean only' version of ComBat\n",
      "\n",
      "R[write to console]: Found2batches\n",
      "\n",
      "R[write to console]: Note: one batch has only one sample, setting mean.only=TRUE\n",
      "\n",
      "R[write to console]: Adjusting for0covariate(s) or covariate level(s)\n",
      "\n",
      "R[write to console]: Standardizing Data across genes\n",
      "\n",
      "R[write to console]: Fitting L/S model and finding priors\n",
      "\n",
      "R[write to console]: Finding parametric adjustments\n",
      "\n",
      "R[write to console]: Adjusting the Data\n",
      "\n",
      "\n",
      "R[write to console]: Correcting Label group 14\n",
      "\n"
     ]
    },
    {
     "name": "stdout",
     "output_type": "stream",
     "text": [
      "Found 3 genes with uniform expression within a single batch (all zeros); these will not be adjusted for batch.\n"
     ]
    },
    {
     "name": "stderr",
     "output_type": "stream",
     "text": [
      "R[write to console]: Found2batches\n",
      "\n",
      "R[write to console]: Adjusting for0covariate(s) or covariate level(s)\n",
      "\n",
      "R[write to console]: Standardizing Data across genes\n",
      "\n",
      "R[write to console]: Fitting L/S model and finding priors\n",
      "\n",
      "R[write to console]: Finding parametric adjustments\n",
      "\n",
      "R[write to console]: Adjusting the Data\n",
      "\n",
      "\n",
      "R[write to console]: Correcting Label group 15\n",
      "\n"
     ]
    },
    {
     "name": "stdout",
     "output_type": "stream",
     "text": [
      "Found 2 genes with uniform expression within a single batch (all zeros); these will not be adjusted for batch.\n"
     ]
    },
    {
     "name": "stderr",
     "output_type": "stream",
     "text": [
      "R[write to console]: Found2batches\n",
      "\n",
      "R[write to console]: Adjusting for0covariate(s) or covariate level(s)\n",
      "\n",
      "R[write to console]: Standardizing Data across genes\n",
      "\n",
      "R[write to console]: Fitting L/S model and finding priors\n",
      "\n",
      "R[write to console]: Finding parametric adjustments\n",
      "\n",
      "R[write to console]: Adjusting the Data\n",
      "\n",
      "\n",
      "R[write to console]: Correcting Label group 16\n",
      "\n"
     ]
    },
    {
     "name": "stdout",
     "output_type": "stream",
     "text": [
      "Found 5 genes with uniform expression within a single batch (all zeros); these will not be adjusted for batch.\n"
     ]
    },
    {
     "name": "stderr",
     "output_type": "stream",
     "text": [
      "R[write to console]: Found2batches\n",
      "\n",
      "R[write to console]: Adjusting for0covariate(s) or covariate level(s)\n",
      "\n",
      "R[write to console]: Standardizing Data across genes\n",
      "\n",
      "R[write to console]: Fitting L/S model and finding priors\n",
      "\n",
      "R[write to console]: Finding parametric adjustments\n",
      "\n",
      "R[write to console]: Adjusting the Data\n",
      "\n",
      "\n",
      "R[write to console]: Correcting Label group 17\n",
      "\n",
      "R[write to console]: Using the 'mean only' version of ComBat\n",
      "\n",
      "R[write to console]: Found2batches\n",
      "\n",
      "R[write to console]: Note: one batch has only one sample, setting mean.only=TRUE\n",
      "\n",
      "R[write to console]: Adjusting for0covariate(s) or covariate level(s)\n",
      "\n",
      "R[write to console]: Standardizing Data across genes\n",
      "\n",
      "R[write to console]: Fitting L/S model and finding priors\n",
      "\n",
      "R[write to console]: Finding parametric adjustments\n",
      "\n",
      "R[write to console]: Adjusting the Data\n",
      "\n",
      "\n",
      "R[write to console]: Correcting Label group 18\n",
      "\n"
     ]
    },
    {
     "name": "stdout",
     "output_type": "stream",
     "text": [
      "Found 3 genes with uniform expression within a single batch (all zeros); these will not be adjusted for batch.\n"
     ]
    },
    {
     "name": "stderr",
     "output_type": "stream",
     "text": [
      "R[write to console]: Found2batches\n",
      "\n",
      "R[write to console]: Adjusting for0covariate(s) or covariate level(s)\n",
      "\n",
      "R[write to console]: Standardizing Data across genes\n",
      "\n",
      "R[write to console]: Fitting L/S model and finding priors\n",
      "\n",
      "R[write to console]: Finding parametric adjustments\n",
      "\n",
      "R[write to console]: Adjusting the Data\n",
      "\n",
      "\n",
      "R[write to console]: Correcting Label group 19\n",
      "\n"
     ]
    },
    {
     "name": "stdout",
     "output_type": "stream",
     "text": [
      "Found 6 genes with uniform expression within a single batch (all zeros); these will not be adjusted for batch.\n"
     ]
    },
    {
     "name": "stderr",
     "output_type": "stream",
     "text": [
      "R[write to console]: Found2batches\n",
      "\n",
      "R[write to console]: Adjusting for0covariate(s) or covariate level(s)\n",
      "\n",
      "R[write to console]: Standardizing Data across genes\n",
      "\n",
      "R[write to console]: Fitting L/S model and finding priors\n",
      "\n",
      "R[write to console]: Finding parametric adjustments\n",
      "\n",
      "R[write to console]: Adjusting the Data\n",
      "\n",
      "\n",
      "R[write to console]: Correcting Label group 20\n",
      "\n"
     ]
    },
    {
     "name": "stdout",
     "output_type": "stream",
     "text": [
      "Found 1 genes with uniform expression within a single batch (all zeros); these will not be adjusted for batch.\n"
     ]
    },
    {
     "name": "stderr",
     "output_type": "stream",
     "text": [
      "R[write to console]: Found2batches\n",
      "\n",
      "R[write to console]: Adjusting for1covariate(s) or covariate level(s)\n",
      "\n",
      "R[write to console]: Standardizing Data across genes\n",
      "\n",
      "R[write to console]: Fitting L/S model and finding priors\n",
      "\n",
      "R[write to console]: Finding parametric adjustments\n",
      "\n",
      "R[write to console]: Adjusting the Data\n",
      "\n",
      "\n",
      "R[write to console]: Correcting Label group 21\n",
      "\n"
     ]
    },
    {
     "name": "stdout",
     "output_type": "stream",
     "text": [
      "Found 2 genes with uniform expression within a single batch (all zeros); these will not be adjusted for batch.\n"
     ]
    },
    {
     "name": "stderr",
     "output_type": "stream",
     "text": [
      "R[write to console]: Found2batches\n",
      "\n",
      "R[write to console]: Adjusting for0covariate(s) or covariate level(s)\n",
      "\n",
      "R[write to console]: Standardizing Data across genes\n",
      "\n",
      "R[write to console]: Fitting L/S model and finding priors\n",
      "\n",
      "R[write to console]: Finding parametric adjustments\n",
      "\n",
      "R[write to console]: Adjusting the Data\n",
      "\n",
      "\n",
      "R[write to console]: Correcting Label group 22\n",
      "\n"
     ]
    },
    {
     "name": "stdout",
     "output_type": "stream",
     "text": [
      "Found 5 genes with uniform expression within a single batch (all zeros); these will not be adjusted for batch.\n"
     ]
    },
    {
     "name": "stderr",
     "output_type": "stream",
     "text": [
      "R[write to console]: Found2batches\n",
      "\n",
      "R[write to console]: Adjusting for0covariate(s) or covariate level(s)\n",
      "\n",
      "R[write to console]: Standardizing Data across genes\n",
      "\n",
      "R[write to console]: Fitting L/S model and finding priors\n",
      "\n",
      "R[write to console]: Finding parametric adjustments\n",
      "\n",
      "R[write to console]: Adjusting the Data\n",
      "\n",
      "\n",
      "R[write to console]: Correcting Label group 23\n",
      "\n"
     ]
    },
    {
     "name": "stdout",
     "output_type": "stream",
     "text": [
      "Found 6 genes with uniform expression within a single batch (all zeros); these will not be adjusted for batch.\n"
     ]
    },
    {
     "name": "stderr",
     "output_type": "stream",
     "text": [
      "R[write to console]: Found2batches\n",
      "\n",
      "R[write to console]: Adjusting for0covariate(s) or covariate level(s)\n",
      "\n",
      "R[write to console]: Standardizing Data across genes\n",
      "\n",
      "R[write to console]: Fitting L/S model and finding priors\n",
      "\n",
      "R[write to console]: Finding parametric adjustments\n",
      "\n",
      "R[write to console]: Adjusting the Data\n",
      "\n",
      "\n",
      "R[write to console]: Correcting Label group 24\n",
      "\n"
     ]
    },
    {
     "name": "stdout",
     "output_type": "stream",
     "text": [
      "Found 1 genes with uniform expression within a single batch (all zeros); these will not be adjusted for batch.\n"
     ]
    },
    {
     "name": "stderr",
     "output_type": "stream",
     "text": [
      "R[write to console]: Found2batches\n",
      "\n",
      "R[write to console]: Adjusting for0covariate(s) or covariate level(s)\n",
      "\n",
      "R[write to console]: Standardizing Data across genes\n",
      "\n",
      "R[write to console]: Fitting L/S model and finding priors\n",
      "\n",
      "R[write to console]: Finding parametric adjustments\n",
      "\n",
      "R[write to console]: Adjusting the Data\n",
      "\n",
      "\n",
      "R[write to console]: Correcting Label group 25\n",
      "\n"
     ]
    },
    {
     "name": "stdout",
     "output_type": "stream",
     "text": [
      "Found 3 genes with uniform expression within a single batch (all zeros); these will not be adjusted for batch.\n"
     ]
    },
    {
     "name": "stderr",
     "output_type": "stream",
     "text": [
      "R[write to console]: Found2batches\n",
      "\n",
      "R[write to console]: Adjusting for0covariate(s) or covariate level(s)\n",
      "\n",
      "R[write to console]: Standardizing Data across genes\n",
      "\n",
      "R[write to console]: Fitting L/S model and finding priors\n",
      "\n",
      "R[write to console]: Finding parametric adjustments\n",
      "\n",
      "R[write to console]: Adjusting the Data\n",
      "\n",
      "\n",
      "R[write to console]: Label group 26 only contains cells from batch 2\n",
      "\n",
      "R[write to console]: Correcting Label group 27\n",
      "\n"
     ]
    },
    {
     "name": "stdout",
     "output_type": "stream",
     "text": [
      "Found 5 genes with uniform expression within a single batch (all zeros); these will not be adjusted for batch.\n"
     ]
    },
    {
     "name": "stderr",
     "output_type": "stream",
     "text": [
      "R[write to console]: Found2batches\n",
      "\n",
      "R[write to console]: Adjusting for0covariate(s) or covariate level(s)\n",
      "\n",
      "R[write to console]: Standardizing Data across genes\n",
      "\n",
      "R[write to console]: Fitting L/S model and finding priors\n",
      "\n",
      "R[write to console]: Finding parametric adjustments\n",
      "\n",
      "R[write to console]: Adjusting the Data\n",
      "\n",
      "\n",
      "R[write to console]: Correcting Label group 28\n",
      "\n"
     ]
    },
    {
     "name": "stdout",
     "output_type": "stream",
     "text": [
      "Found 6 genes with uniform expression within a single batch (all zeros); these will not be adjusted for batch.\n"
     ]
    },
    {
     "name": "stderr",
     "output_type": "stream",
     "text": [
      "R[write to console]: Found2batches\n",
      "\n",
      "R[write to console]: Adjusting for0covariate(s) or covariate level(s)\n",
      "\n",
      "R[write to console]: Standardizing Data across genes\n",
      "\n",
      "R[write to console]: Fitting L/S model and finding priors\n",
      "\n",
      "R[write to console]: Finding parametric adjustments\n",
      "\n",
      "R[write to console]: Adjusting the Data\n",
      "\n",
      "\n",
      "R[write to console]: Correcting Label group 29\n",
      "\n"
     ]
    },
    {
     "name": "stdout",
     "output_type": "stream",
     "text": [
      "Found 3 genes with uniform expression within a single batch (all zeros); these will not be adjusted for batch.\n"
     ]
    },
    {
     "name": "stderr",
     "output_type": "stream",
     "text": [
      "R[write to console]: Found2batches\n",
      "\n",
      "R[write to console]: Adjusting for0covariate(s) or covariate level(s)\n",
      "\n",
      "R[write to console]: Standardizing Data across genes\n",
      "\n",
      "R[write to console]: Fitting L/S model and finding priors\n",
      "\n",
      "R[write to console]: Finding parametric adjustments\n",
      "\n",
      "R[write to console]: Adjusting the Data\n",
      "\n",
      "\n",
      "R[write to console]: Correcting Label group 30\n",
      "\n"
     ]
    },
    {
     "name": "stdout",
     "output_type": "stream",
     "text": [
      "Found 9 genes with uniform expression within a single batch (all zeros); these will not be adjusted for batch.\n"
     ]
    },
    {
     "name": "stderr",
     "output_type": "stream",
     "text": [
      "R[write to console]: Found2batches\n",
      "\n",
      "R[write to console]: Adjusting for0covariate(s) or covariate level(s)\n",
      "\n",
      "R[write to console]: Standardizing Data across genes\n",
      "\n",
      "R[write to console]: Fitting L/S model and finding priors\n",
      "\n",
      "R[write to console]: Finding parametric adjustments\n",
      "\n",
      "R[write to console]: Adjusting the Data\n",
      "\n",
      "\n",
      "R[write to console]: Correcting Label group 31\n",
      "\n"
     ]
    },
    {
     "name": "stdout",
     "output_type": "stream",
     "text": [
      "Found 3 genes with uniform expression within a single batch (all zeros); these will not be adjusted for batch.\n"
     ]
    },
    {
     "name": "stderr",
     "output_type": "stream",
     "text": [
      "R[write to console]: Found2batches\n",
      "\n",
      "R[write to console]: Adjusting for0covariate(s) or covariate level(s)\n",
      "\n",
      "R[write to console]: Standardizing Data across genes\n",
      "\n",
      "R[write to console]: Fitting L/S model and finding priors\n",
      "\n",
      "R[write to console]: Finding parametric adjustments\n",
      "\n",
      "R[write to console]: Adjusting the Data\n",
      "\n",
      "\n",
      "R[write to console]: Correcting Label group 32\n",
      "\n"
     ]
    },
    {
     "name": "stdout",
     "output_type": "stream",
     "text": [
      "Found 5 genes with uniform expression within a single batch (all zeros); these will not be adjusted for batch.\n"
     ]
    },
    {
     "name": "stderr",
     "output_type": "stream",
     "text": [
      "R[write to console]: Found2batches\n",
      "\n",
      "R[write to console]: Adjusting for0covariate(s) or covariate level(s)\n",
      "\n",
      "R[write to console]: Standardizing Data across genes\n",
      "\n",
      "R[write to console]: Fitting L/S model and finding priors\n",
      "\n",
      "R[write to console]: Finding parametric adjustments\n",
      "\n",
      "R[write to console]: Adjusting the Data\n",
      "\n",
      "\n",
      "R[write to console]: Correcting Label group 33\n",
      "\n"
     ]
    },
    {
     "name": "stdout",
     "output_type": "stream",
     "text": [
      "Found 3 genes with uniform expression within a single batch (all zeros); these will not be adjusted for batch.\n"
     ]
    },
    {
     "name": "stderr",
     "output_type": "stream",
     "text": [
      "R[write to console]: Found2batches\n",
      "\n",
      "R[write to console]: Adjusting for0covariate(s) or covariate level(s)\n",
      "\n",
      "R[write to console]: Standardizing Data across genes\n",
      "\n",
      "R[write to console]: Fitting L/S model and finding priors\n",
      "\n",
      "R[write to console]: Finding parametric adjustments\n",
      "\n",
      "R[write to console]: Adjusting the Data\n",
      "\n",
      "\n",
      "R[write to console]: Correcting Label group 34\n",
      "\n"
     ]
    },
    {
     "name": "stdout",
     "output_type": "stream",
     "text": [
      "Found 4 genes with uniform expression within a single batch (all zeros); these will not be adjusted for batch.\n"
     ]
    },
    {
     "name": "stderr",
     "output_type": "stream",
     "text": [
      "R[write to console]: Found2batches\n",
      "\n",
      "R[write to console]: Adjusting for0covariate(s) or covariate level(s)\n",
      "\n",
      "R[write to console]: Standardizing Data across genes\n",
      "\n",
      "R[write to console]: Fitting L/S model and finding priors\n",
      "\n",
      "R[write to console]: Finding parametric adjustments\n",
      "\n",
      "R[write to console]: Adjusting the Data\n",
      "\n",
      "\n",
      "R[write to console]: Correcting Label group 35\n",
      "\n"
     ]
    },
    {
     "name": "stdout",
     "output_type": "stream",
     "text": [
      "Found 1 genes with uniform expression within a single batch (all zeros); these will not be adjusted for batch.\n"
     ]
    },
    {
     "name": "stderr",
     "output_type": "stream",
     "text": [
      "R[write to console]: Found2batches\n",
      "\n",
      "R[write to console]: Adjusting for0covariate(s) or covariate level(s)\n",
      "\n",
      "R[write to console]: Standardizing Data across genes\n",
      "\n",
      "R[write to console]: Fitting L/S model and finding priors\n",
      "\n",
      "R[write to console]: Finding parametric adjustments\n",
      "\n",
      "R[write to console]: Adjusting the Data\n",
      "\n",
      "\n",
      "R[write to console]: Correcting Label group 36\n",
      "\n"
     ]
    },
    {
     "name": "stdout",
     "output_type": "stream",
     "text": [
      "Found 7 genes with uniform expression within a single batch (all zeros); these will not be adjusted for batch.\n"
     ]
    },
    {
     "name": "stderr",
     "output_type": "stream",
     "text": [
      "R[write to console]: Found2batches\n",
      "\n",
      "R[write to console]: Adjusting for0covariate(s) or covariate level(s)\n",
      "\n",
      "R[write to console]: Standardizing Data across genes\n",
      "\n",
      "R[write to console]: Fitting L/S model and finding priors\n",
      "\n",
      "R[write to console]: Finding parametric adjustments\n",
      "\n",
      "R[write to console]: Adjusting the Data\n",
      "\n",
      "\n",
      "R[write to console]: Correcting Label group 37\n",
      "\n",
      "R[write to console]: Using the 'mean only' version of ComBat\n",
      "\n",
      "R[write to console]: Found2batches\n",
      "\n",
      "R[write to console]: Note: one batch has only one sample, setting mean.only=TRUE\n",
      "\n",
      "R[write to console]: Adjusting for0covariate(s) or covariate level(s)\n",
      "\n",
      "R[write to console]: Standardizing Data across genes\n",
      "\n",
      "R[write to console]: Fitting L/S model and finding priors\n",
      "\n",
      "R[write to console]: Finding parametric adjustments\n",
      "\n",
      "R[write to console]: Adjusting the Data\n",
      "\n",
      "\n",
      "R[write to console]: Correcting Label group 38\n",
      "\n"
     ]
    },
    {
     "name": "stdout",
     "output_type": "stream",
     "text": [
      "Found 6 genes with uniform expression within a single batch (all zeros); these will not be adjusted for batch.\n"
     ]
    },
    {
     "name": "stderr",
     "output_type": "stream",
     "text": [
      "R[write to console]: Found2batches\n",
      "\n",
      "R[write to console]: Adjusting for0covariate(s) or covariate level(s)\n",
      "\n",
      "R[write to console]: Standardizing Data across genes\n",
      "\n",
      "R[write to console]: Fitting L/S model and finding priors\n",
      "\n",
      "R[write to console]: Finding parametric adjustments\n",
      "\n",
      "R[write to console]: Adjusting the Data\n",
      "\n",
      "\n",
      "R[write to console]: Label group 39 only contains cells from batch 1\n",
      "\n",
      "R[write to console]: Correcting Label group 40\n",
      "\n"
     ]
    },
    {
     "name": "stdout",
     "output_type": "stream",
     "text": [
      "Found 1 genes with uniform expression within a single batch (all zeros); these will not be adjusted for batch.\n"
     ]
    },
    {
     "name": "stderr",
     "output_type": "stream",
     "text": [
      "R[write to console]: Found2batches\n",
      "\n",
      "R[write to console]: Adjusting for0covariate(s) or covariate level(s)\n",
      "\n",
      "R[write to console]: Standardizing Data across genes\n",
      "\n",
      "R[write to console]: Fitting L/S model and finding priors\n",
      "\n",
      "R[write to console]: Finding parametric adjustments\n",
      "\n",
      "R[write to console]: Adjusting the Data\n",
      "\n",
      "\n",
      "R[write to console]: Correcting Label group 41\n",
      "\n"
     ]
    },
    {
     "name": "stdout",
     "output_type": "stream",
     "text": [
      "Found 2 genes with uniform expression within a single batch (all zeros); these will not be adjusted for batch.\n"
     ]
    },
    {
     "name": "stderr",
     "output_type": "stream",
     "text": [
      "R[write to console]: Found2batches\n",
      "\n",
      "R[write to console]: Adjusting for0covariate(s) or covariate level(s)\n",
      "\n",
      "R[write to console]: Standardizing Data across genes\n",
      "\n",
      "R[write to console]: Fitting L/S model and finding priors\n",
      "\n",
      "R[write to console]: Finding parametric adjustments\n",
      "\n",
      "R[write to console]: Adjusting the Data\n",
      "\n",
      "\n",
      "R[write to console]: Correcting Label group 42\n",
      "\n"
     ]
    },
    {
     "name": "stdout",
     "output_type": "stream",
     "text": [
      "Found 2 genes with uniform expression within a single batch (all zeros); these will not be adjusted for batch.\n"
     ]
    },
    {
     "name": "stderr",
     "output_type": "stream",
     "text": [
      "R[write to console]: Found2batches\n",
      "\n",
      "R[write to console]: Adjusting for0covariate(s) or covariate level(s)\n",
      "\n",
      "R[write to console]: Standardizing Data across genes\n",
      "\n",
      "R[write to console]: Fitting L/S model and finding priors\n",
      "\n",
      "R[write to console]: Finding parametric adjustments\n",
      "\n",
      "R[write to console]: Adjusting the Data\n",
      "\n",
      "\n",
      "R[write to console]: Correcting Label group 43\n",
      "\n"
     ]
    },
    {
     "name": "stdout",
     "output_type": "stream",
     "text": [
      "Found 4 genes with uniform expression within a single batch (all zeros); these will not be adjusted for batch.\n"
     ]
    },
    {
     "name": "stderr",
     "output_type": "stream",
     "text": [
      "R[write to console]: Found2batches\n",
      "\n",
      "R[write to console]: Adjusting for0covariate(s) or covariate level(s)\n",
      "\n",
      "R[write to console]: Standardizing Data across genes\n",
      "\n",
      "R[write to console]: Fitting L/S model and finding priors\n",
      "\n",
      "R[write to console]: Finding parametric adjustments\n",
      "\n",
      "R[write to console]: Adjusting the Data\n",
      "\n",
      "\n",
      "R[write to console]: Correcting Label group 44\n",
      "\n"
     ]
    },
    {
     "name": "stdout",
     "output_type": "stream",
     "text": [
      "Found 4 genes with uniform expression within a single batch (all zeros); these will not be adjusted for batch.\n"
     ]
    },
    {
     "name": "stderr",
     "output_type": "stream",
     "text": [
      "R[write to console]: Found2batches\n",
      "\n",
      "R[write to console]: Adjusting for0covariate(s) or covariate level(s)\n",
      "\n",
      "R[write to console]: Standardizing Data across genes\n",
      "\n",
      "R[write to console]: Fitting L/S model and finding priors\n",
      "\n",
      "R[write to console]: Finding parametric adjustments\n",
      "\n",
      "R[write to console]: Adjusting the Data\n",
      "\n",
      "\n",
      "R[write to console]: Label group 45 only contains cells from batch 2\n",
      "\n",
      "R[write to console]: Correcting Label group 46\n",
      "\n"
     ]
    },
    {
     "name": "stdout",
     "output_type": "stream",
     "text": [
      "Found 3 genes with uniform expression within a single batch (all zeros); these will not be adjusted for batch.\n"
     ]
    },
    {
     "name": "stderr",
     "output_type": "stream",
     "text": [
      "R[write to console]: Found2batches\n",
      "\n",
      "R[write to console]: Adjusting for0covariate(s) or covariate level(s)\n",
      "\n",
      "R[write to console]: Standardizing Data across genes\n",
      "\n",
      "R[write to console]: Fitting L/S model and finding priors\n",
      "\n",
      "R[write to console]: Finding parametric adjustments\n",
      "\n",
      "R[write to console]: Adjusting the Data\n",
      "\n",
      "\n",
      "R[write to console]: Label group 47 only contains cells from batch 1\n",
      "\n",
      "R[write to console]: Label group 48 only contains cells from batch 1\n",
      "\n",
      "R[write to console]: Label group 49 only contains cells from batch 1\n",
      "\n",
      "R[write to console]: Correcting Label group 50\n",
      "\n"
     ]
    },
    {
     "name": "stdout",
     "output_type": "stream",
     "text": [
      "Found 3 genes with uniform expression within a single batch (all zeros); these will not be adjusted for batch.\n"
     ]
    },
    {
     "name": "stderr",
     "output_type": "stream",
     "text": [
      "R[write to console]: Found2batches\n",
      "\n",
      "R[write to console]: Adjusting for1covariate(s) or covariate level(s)\n",
      "\n",
      "R[write to console]: Standardizing Data across genes\n",
      "\n",
      "R[write to console]: Fitting L/S model and finding priors\n",
      "\n",
      "R[write to console]: Finding parametric adjustments\n",
      "\n",
      "R[write to console]: Adjusting the Data\n",
      "\n",
      "\n",
      "R[write to console]: Correcting Label group 51\n",
      "\n"
     ]
    },
    {
     "name": "stdout",
     "output_type": "stream",
     "text": [
      "Found 5 genes with uniform expression within a single batch (all zeros); these will not be adjusted for batch.\n"
     ]
    },
    {
     "name": "stderr",
     "output_type": "stream",
     "text": [
      "R[write to console]: Found2batches\n",
      "\n",
      "R[write to console]: Adjusting for0covariate(s) or covariate level(s)\n",
      "\n",
      "R[write to console]: Standardizing Data across genes\n",
      "\n",
      "R[write to console]: Fitting L/S model and finding priors\n",
      "\n",
      "R[write to console]: Finding parametric adjustments\n",
      "\n",
      "R[write to console]: Adjusting the Data\n",
      "\n",
      "\n",
      "R[write to console]: Correcting Label group 52\n",
      "\n"
     ]
    },
    {
     "name": "stdout",
     "output_type": "stream",
     "text": [
      "Found 3 genes with uniform expression within a single batch (all zeros); these will not be adjusted for batch.\n"
     ]
    },
    {
     "name": "stderr",
     "output_type": "stream",
     "text": [
      "R[write to console]: Found2batches\n",
      "\n",
      "R[write to console]: Adjusting for0covariate(s) or covariate level(s)\n",
      "\n",
      "R[write to console]: Standardizing Data across genes\n",
      "\n",
      "R[write to console]: Fitting L/S model and finding priors\n",
      "\n",
      "R[write to console]: Finding parametric adjustments\n",
      "\n",
      "R[write to console]: Adjusting the Data\n",
      "\n",
      "\n",
      "R[write to console]: Correcting Label group 53\n",
      "\n"
     ]
    },
    {
     "name": "stdout",
     "output_type": "stream",
     "text": [
      "Found 3 genes with uniform expression within a single batch (all zeros); these will not be adjusted for batch.\n"
     ]
    },
    {
     "name": "stderr",
     "output_type": "stream",
     "text": [
      "R[write to console]: Found2batches\n",
      "\n",
      "R[write to console]: Adjusting for1covariate(s) or covariate level(s)\n",
      "\n",
      "R[write to console]: Standardizing Data across genes\n",
      "\n",
      "R[write to console]: Fitting L/S model and finding priors\n",
      "\n",
      "R[write to console]: Finding parametric adjustments\n",
      "\n",
      "R[write to console]: Adjusting the Data\n",
      "\n",
      "\n",
      "R[write to console]: Correcting Label group 54\n",
      "\n"
     ]
    },
    {
     "name": "stdout",
     "output_type": "stream",
     "text": [
      "Found 5 genes with uniform expression within a single batch (all zeros); these will not be adjusted for batch.\n"
     ]
    },
    {
     "name": "stderr",
     "output_type": "stream",
     "text": [
      "R[write to console]: Found2batches\n",
      "\n",
      "R[write to console]: Adjusting for0covariate(s) or covariate level(s)\n",
      "\n",
      "R[write to console]: Standardizing Data across genes\n",
      "\n",
      "R[write to console]: Fitting L/S model and finding priors\n",
      "\n",
      "R[write to console]: Finding parametric adjustments\n",
      "\n",
      "R[write to console]: Adjusting the Data\n",
      "\n",
      "\n",
      "R[write to console]: Correcting Label group 55\n",
      "\n",
      "R[write to console]: Using the 'mean only' version of ComBat\n",
      "\n",
      "R[write to console]: Found2batches\n",
      "\n",
      "R[write to console]: Note: one batch has only one sample, setting mean.only=TRUE\n",
      "\n",
      "R[write to console]: Adjusting for0covariate(s) or covariate level(s)\n",
      "\n",
      "R[write to console]: Standardizing Data across genes\n",
      "\n",
      "R[write to console]: Fitting L/S model and finding priors\n",
      "\n",
      "R[write to console]: Finding parametric adjustments\n",
      "\n",
      "R[write to console]: Adjusting the Data\n",
      "\n",
      "\n",
      "R[write to console]: Correcting Label group 56\n",
      "\n",
      "R[write to console]: Using the 'mean only' version of ComBat\n",
      "\n",
      "R[write to console]: Found2batches\n",
      "\n",
      "R[write to console]: Note: one batch has only one sample, setting mean.only=TRUE\n",
      "\n",
      "R[write to console]: Adjusting for0covariate(s) or covariate level(s)\n",
      "\n",
      "R[write to console]: Standardizing Data across genes\n",
      "\n",
      "R[write to console]: Fitting L/S model and finding priors\n",
      "\n",
      "R[write to console]: Finding parametric adjustments\n",
      "\n",
      "R[write to console]: Adjusting the Data\n",
      "\n",
      "\n",
      "R[write to console]: Correcting Label group 57\n",
      "\n"
     ]
    },
    {
     "name": "stdout",
     "output_type": "stream",
     "text": [
      "Found 1 genes with uniform expression within a single batch (all zeros); these will not be adjusted for batch.\n"
     ]
    },
    {
     "name": "stderr",
     "output_type": "stream",
     "text": [
      "R[write to console]: Found2batches\n",
      "\n",
      "R[write to console]: Adjusting for0covariate(s) or covariate level(s)\n",
      "\n",
      "R[write to console]: Standardizing Data across genes\n",
      "\n",
      "R[write to console]: Fitting L/S model and finding priors\n",
      "\n",
      "R[write to console]: Finding parametric adjustments\n",
      "\n",
      "R[write to console]: Adjusting the Data\n",
      "\n",
      "\n",
      "R[write to console]: Label group 58 only contains cells from batch 1\n",
      "\n",
      "R[write to console]: Correcting Label group 59\n",
      "\n"
     ]
    },
    {
     "name": "stdout",
     "output_type": "stream",
     "text": [
      "Found 2 genes with uniform expression within a single batch (all zeros); these will not be adjusted for batch.\n"
     ]
    },
    {
     "name": "stderr",
     "output_type": "stream",
     "text": [
      "R[write to console]: Using the 'mean only' version of ComBat\n",
      "\n",
      "R[write to console]: Found2batches\n",
      "\n",
      "R[write to console]: Note: one batch has only one sample, setting mean.only=TRUE\n",
      "\n",
      "R[write to console]: Adjusting for0covariate(s) or covariate level(s)\n",
      "\n",
      "R[write to console]: Standardizing Data across genes\n",
      "\n",
      "R[write to console]: Fitting L/S model and finding priors\n",
      "\n",
      "R[write to console]: Finding parametric adjustments\n",
      "\n",
      "R[write to console]: Adjusting the Data\n",
      "\n",
      "\n",
      "R[write to console]: Correcting Label group 60\n",
      "\n"
     ]
    },
    {
     "name": "stdout",
     "output_type": "stream",
     "text": [
      "Found 2 genes with uniform expression within a single batch (all zeros); these will not be adjusted for batch.\n"
     ]
    },
    {
     "name": "stderr",
     "output_type": "stream",
     "text": [
      "R[write to console]: Using the 'mean only' version of ComBat\n",
      "\n",
      "R[write to console]: Found2batches\n",
      "\n",
      "R[write to console]: Note: one batch has only one sample, setting mean.only=TRUE\n",
      "\n",
      "R[write to console]: Adjusting for0covariate(s) or covariate level(s)\n",
      "\n",
      "R[write to console]: Standardizing Data across genes\n",
      "\n",
      "R[write to console]: Fitting L/S model and finding priors\n",
      "\n",
      "R[write to console]: Finding parametric adjustments\n",
      "\n",
      "R[write to console]: Adjusting the Data\n",
      "\n",
      "\n",
      "R[write to console]: Correcting Label group 61\n",
      "\n"
     ]
    },
    {
     "name": "stdout",
     "output_type": "stream",
     "text": [
      "Found 1 genes with uniform expression within a single batch (all zeros); these will not be adjusted for batch.\n"
     ]
    },
    {
     "name": "stderr",
     "output_type": "stream",
     "text": [
      "R[write to console]: Found2batches\n",
      "\n",
      "R[write to console]: Adjusting for0covariate(s) or covariate level(s)\n",
      "\n",
      "R[write to console]: Standardizing Data across genes\n",
      "\n",
      "R[write to console]: Fitting L/S model and finding priors\n",
      "\n",
      "R[write to console]: Finding parametric adjustments\n",
      "\n",
      "R[write to console]: Adjusting the Data\n",
      "\n",
      "\n",
      "R[write to console]: Correcting Label group 62\n",
      "\n"
     ]
    },
    {
     "name": "stdout",
     "output_type": "stream",
     "text": [
      "Found 5 genes with uniform expression within a single batch (all zeros); these will not be adjusted for batch.\n"
     ]
    },
    {
     "name": "stderr",
     "output_type": "stream",
     "text": [
      "R[write to console]: Found2batches\n",
      "\n",
      "R[write to console]: Adjusting for0covariate(s) or covariate level(s)\n",
      "\n",
      "R[write to console]: Standardizing Data across genes\n",
      "\n",
      "R[write to console]: Fitting L/S model and finding priors\n",
      "\n",
      "R[write to console]: Finding parametric adjustments\n",
      "\n",
      "R[write to console]: Adjusting the Data\n",
      "\n",
      "\n",
      "R[write to console]: Correcting Label group 63\n",
      "\n"
     ]
    },
    {
     "name": "stdout",
     "output_type": "stream",
     "text": [
      "Found 1 genes with uniform expression within a single batch (all zeros); these will not be adjusted for batch.\n"
     ]
    },
    {
     "name": "stderr",
     "output_type": "stream",
     "text": [
      "R[write to console]: Found2batches\n",
      "\n",
      "R[write to console]: Adjusting for0covariate(s) or covariate level(s)\n",
      "\n",
      "R[write to console]: Standardizing Data across genes\n",
      "\n",
      "R[write to console]: Fitting L/S model and finding priors\n",
      "\n",
      "R[write to console]: Finding parametric adjustments\n",
      "\n",
      "R[write to console]: Adjusting the Data\n",
      "\n",
      "\n",
      "R[write to console]: Correcting Label group 64\n",
      "\n"
     ]
    },
    {
     "name": "stdout",
     "output_type": "stream",
     "text": [
      "Found 5 genes with uniform expression within a single batch (all zeros); these will not be adjusted for batch.\n"
     ]
    },
    {
     "name": "stderr",
     "output_type": "stream",
     "text": [
      "R[write to console]: Found2batches\n",
      "\n",
      "R[write to console]: Adjusting for0covariate(s) or covariate level(s)\n",
      "\n",
      "R[write to console]: Standardizing Data across genes\n",
      "\n",
      "R[write to console]: Fitting L/S model and finding priors\n",
      "\n",
      "R[write to console]: Finding parametric adjustments\n",
      "\n",
      "R[write to console]: Adjusting the Data\n",
      "\n",
      "\n",
      "R[write to console]: Correcting Label group 65\n",
      "\n"
     ]
    },
    {
     "name": "stdout",
     "output_type": "stream",
     "text": [
      "Found 4 genes with uniform expression within a single batch (all zeros); these will not be adjusted for batch.\n"
     ]
    },
    {
     "name": "stderr",
     "output_type": "stream",
     "text": [
      "R[write to console]: Found2batches\n",
      "\n",
      "R[write to console]: Adjusting for0covariate(s) or covariate level(s)\n",
      "\n",
      "R[write to console]: Standardizing Data across genes\n",
      "\n",
      "R[write to console]: Fitting L/S model and finding priors\n",
      "\n",
      "R[write to console]: Finding parametric adjustments\n",
      "\n",
      "R[write to console]: Adjusting the Data\n",
      "\n",
      "\n",
      "R[write to console]: Correcting Label group 66\n",
      "\n"
     ]
    },
    {
     "name": "stdout",
     "output_type": "stream",
     "text": [
      "Found 7 genes with uniform expression within a single batch (all zeros); these will not be adjusted for batch.\n"
     ]
    },
    {
     "name": "stderr",
     "output_type": "stream",
     "text": [
      "R[write to console]: Using the 'mean only' version of ComBat\n",
      "\n",
      "R[write to console]: Found2batches\n",
      "\n",
      "R[write to console]: Note: one batch has only one sample, setting mean.only=TRUE\n",
      "\n",
      "R[write to console]: Adjusting for0covariate(s) or covariate level(s)\n",
      "\n",
      "R[write to console]: Standardizing Data across genes\n",
      "\n",
      "R[write to console]: Fitting L/S model and finding priors\n",
      "\n",
      "R[write to console]: Finding parametric adjustments\n",
      "\n",
      "R[write to console]: Adjusting the Data\n",
      "\n",
      "\n",
      "R[write to console]: Correcting Label group 67\n",
      "\n"
     ]
    },
    {
     "name": "stdout",
     "output_type": "stream",
     "text": [
      "Found 4 genes with uniform expression within a single batch (all zeros); these will not be adjusted for batch.\n"
     ]
    },
    {
     "name": "stderr",
     "output_type": "stream",
     "text": [
      "R[write to console]: Using the 'mean only' version of ComBat\n",
      "\n",
      "R[write to console]: Found2batches\n",
      "\n",
      "R[write to console]: Note: one batch has only one sample, setting mean.only=TRUE\n",
      "\n",
      "R[write to console]: Adjusting for0covariate(s) or covariate level(s)\n",
      "\n",
      "R[write to console]: Standardizing Data across genes\n",
      "\n",
      "R[write to console]: Fitting L/S model and finding priors\n",
      "\n",
      "R[write to console]: Finding parametric adjustments\n",
      "\n",
      "R[write to console]: Adjusting the Data\n",
      "\n",
      "\n",
      "R[write to console]: Correcting Label group 68\n",
      "\n"
     ]
    },
    {
     "name": "stdout",
     "output_type": "stream",
     "text": [
      "Found 2 genes with uniform expression within a single batch (all zeros); these will not be adjusted for batch.\n"
     ]
    },
    {
     "name": "stderr",
     "output_type": "stream",
     "text": [
      "R[write to console]: Found2batches\n",
      "\n",
      "R[write to console]: Adjusting for0covariate(s) or covariate level(s)\n",
      "\n",
      "R[write to console]: Standardizing Data across genes\n",
      "\n",
      "R[write to console]: Fitting L/S model and finding priors\n",
      "\n",
      "R[write to console]: Finding parametric adjustments\n",
      "\n",
      "R[write to console]: Adjusting the Data\n",
      "\n",
      "\n",
      "R[write to console]: Correcting Label group 69\n",
      "\n"
     ]
    },
    {
     "name": "stdout",
     "output_type": "stream",
     "text": [
      "Found 6 genes with uniform expression within a single batch (all zeros); these will not be adjusted for batch.\n"
     ]
    },
    {
     "name": "stderr",
     "output_type": "stream",
     "text": [
      "R[write to console]: Using the 'mean only' version of ComBat\n",
      "\n",
      "R[write to console]: Found2batches\n",
      "\n",
      "R[write to console]: Note: one batch has only one sample, setting mean.only=TRUE\n",
      "\n",
      "R[write to console]: Adjusting for0covariate(s) or covariate level(s)\n",
      "\n",
      "R[write to console]: Standardizing Data across genes\n",
      "\n",
      "R[write to console]: Fitting L/S model and finding priors\n",
      "\n",
      "R[write to console]: Finding parametric adjustments\n",
      "\n",
      "R[write to console]: Adjusting the Data\n",
      "\n",
      "\n",
      "R[write to console]: Correcting Label group 70\n",
      "\n"
     ]
    },
    {
     "name": "stdout",
     "output_type": "stream",
     "text": [
      "Found 8 genes with uniform expression within a single batch (all zeros); these will not be adjusted for batch.\n"
     ]
    },
    {
     "name": "stderr",
     "output_type": "stream",
     "text": [
      "R[write to console]: Found2batches\n",
      "\n",
      "R[write to console]: Adjusting for0covariate(s) or covariate level(s)\n",
      "\n",
      "R[write to console]: Standardizing Data across genes\n",
      "\n",
      "R[write to console]: Fitting L/S model and finding priors\n",
      "\n",
      "R[write to console]: Finding parametric adjustments\n",
      "\n",
      "R[write to console]: Adjusting the Data\n",
      "\n",
      "\n",
      "R[write to console]: Correcting Label group 71\n",
      "\n"
     ]
    },
    {
     "name": "stdout",
     "output_type": "stream",
     "text": [
      "Found 1 genes with uniform expression within a single batch (all zeros); these will not be adjusted for batch.\n"
     ]
    },
    {
     "name": "stderr",
     "output_type": "stream",
     "text": [
      "R[write to console]: Found2batches\n",
      "\n",
      "R[write to console]: Adjusting for0covariate(s) or covariate level(s)\n",
      "\n",
      "R[write to console]: Standardizing Data across genes\n",
      "\n",
      "R[write to console]: Fitting L/S model and finding priors\n",
      "\n",
      "R[write to console]: Finding parametric adjustments\n",
      "\n",
      "R[write to console]: Adjusting the Data\n",
      "\n",
      "\n",
      "R[write to console]: Correcting Label group 72\n",
      "\n"
     ]
    },
    {
     "name": "stdout",
     "output_type": "stream",
     "text": [
      "Found 2 genes with uniform expression within a single batch (all zeros); these will not be adjusted for batch.\n"
     ]
    },
    {
     "name": "stderr",
     "output_type": "stream",
     "text": [
      "R[write to console]: Found2batches\n",
      "\n",
      "R[write to console]: Adjusting for0covariate(s) or covariate level(s)\n",
      "\n",
      "R[write to console]: Standardizing Data across genes\n",
      "\n",
      "R[write to console]: Fitting L/S model and finding priors\n",
      "\n",
      "R[write to console]: Finding parametric adjustments\n",
      "\n",
      "R[write to console]: Adjusting the Data\n",
      "\n",
      "\n",
      "R[write to console]: Correcting Label group 73\n",
      "\n",
      "R[write to console]: Found2batches\n",
      "\n",
      "R[write to console]: Adjusting for0covariate(s) or covariate level(s)\n",
      "\n",
      "R[write to console]: Standardizing Data across genes\n",
      "\n",
      "R[write to console]: Fitting L/S model and finding priors\n",
      "\n",
      "R[write to console]: Finding parametric adjustments\n",
      "\n",
      "R[write to console]: Adjusting the Data\n",
      "\n",
      "\n",
      "R[write to console]: Correcting Label group 74\n",
      "\n"
     ]
    },
    {
     "name": "stdout",
     "output_type": "stream",
     "text": [
      "Found 4 genes with uniform expression within a single batch (all zeros); these will not be adjusted for batch.\n"
     ]
    },
    {
     "name": "stderr",
     "output_type": "stream",
     "text": [
      "R[write to console]: Found2batches\n",
      "\n",
      "R[write to console]: Adjusting for0covariate(s) or covariate level(s)\n",
      "\n",
      "R[write to console]: Standardizing Data across genes\n",
      "\n",
      "R[write to console]: Fitting L/S model and finding priors\n",
      "\n",
      "R[write to console]: Finding parametric adjustments\n",
      "\n",
      "R[write to console]: Adjusting the Data\n",
      "\n",
      "\n",
      "R[write to console]: Correcting Label group 75\n",
      "\n"
     ]
    },
    {
     "name": "stdout",
     "output_type": "stream",
     "text": [
      "Found 5 genes with uniform expression within a single batch (all zeros); these will not be adjusted for batch.\n"
     ]
    },
    {
     "name": "stderr",
     "output_type": "stream",
     "text": [
      "R[write to console]: Found2batches\n",
      "\n",
      "R[write to console]: Adjusting for0covariate(s) or covariate level(s)\n",
      "\n",
      "R[write to console]: Standardizing Data across genes\n",
      "\n",
      "R[write to console]: Fitting L/S model and finding priors\n",
      "\n",
      "R[write to console]: Finding parametric adjustments\n",
      "\n",
      "R[write to console]: Adjusting the Data\n",
      "\n",
      "\n",
      "R[write to console]: Correcting Label group 76\n",
      "\n"
     ]
    },
    {
     "name": "stdout",
     "output_type": "stream",
     "text": [
      "Found 1 genes with uniform expression within a single batch (all zeros); these will not be adjusted for batch.\n"
     ]
    },
    {
     "name": "stderr",
     "output_type": "stream",
     "text": [
      "R[write to console]: Found2batches\n",
      "\n",
      "R[write to console]: Adjusting for0covariate(s) or covariate level(s)\n",
      "\n",
      "R[write to console]: Standardizing Data across genes\n",
      "\n",
      "R[write to console]: Fitting L/S model and finding priors\n",
      "\n",
      "R[write to console]: Finding parametric adjustments\n",
      "\n",
      "R[write to console]: Adjusting the Data\n",
      "\n",
      "\n",
      "R[write to console]: Correcting Label group 77\n",
      "\n"
     ]
    },
    {
     "name": "stdout",
     "output_type": "stream",
     "text": [
      "Found 2 genes with uniform expression within a single batch (all zeros); these will not be adjusted for batch.\n"
     ]
    },
    {
     "name": "stderr",
     "output_type": "stream",
     "text": [
      "R[write to console]: Found2batches\n",
      "\n",
      "R[write to console]: Adjusting for0covariate(s) or covariate level(s)\n",
      "\n",
      "R[write to console]: Standardizing Data across genes\n",
      "\n",
      "R[write to console]: Fitting L/S model and finding priors\n",
      "\n",
      "R[write to console]: Finding parametric adjustments\n",
      "\n",
      "R[write to console]: Adjusting the Data\n",
      "\n",
      "\n",
      "R[write to console]: Correcting Label group 78\n",
      "\n"
     ]
    },
    {
     "name": "stdout",
     "output_type": "stream",
     "text": [
      "Found 3 genes with uniform expression within a single batch (all zeros); these will not be adjusted for batch.\n"
     ]
    },
    {
     "name": "stderr",
     "output_type": "stream",
     "text": [
      "R[write to console]: Found2batches\n",
      "\n",
      "R[write to console]: Adjusting for1covariate(s) or covariate level(s)\n",
      "\n",
      "R[write to console]: Standardizing Data across genes\n",
      "\n",
      "R[write to console]: Fitting L/S model and finding priors\n",
      "\n",
      "R[write to console]: Finding parametric adjustments\n",
      "\n",
      "R[write to console]: Adjusting the Data\n",
      "\n",
      "\n",
      "R[write to console]: Correcting Label group 79\n",
      "\n"
     ]
    },
    {
     "name": "stdout",
     "output_type": "stream",
     "text": [
      "Found 6 genes with uniform expression within a single batch (all zeros); these will not be adjusted for batch.\n"
     ]
    },
    {
     "name": "stderr",
     "output_type": "stream",
     "text": [
      "R[write to console]: Found2batches\n",
      "\n",
      "R[write to console]: Adjusting for1covariate(s) or covariate level(s)\n",
      "\n",
      "R[write to console]: Standardizing Data across genes\n",
      "\n",
      "R[write to console]: Fitting L/S model and finding priors\n",
      "\n",
      "R[write to console]: Finding parametric adjustments\n",
      "\n",
      "R[write to console]: Adjusting the Data\n",
      "\n",
      "\n",
      "R[write to console]: Correcting Label group 80\n",
      "\n"
     ]
    },
    {
     "name": "stdout",
     "output_type": "stream",
     "text": [
      "Found 8 genes with uniform expression within a single batch (all zeros); these will not be adjusted for batch.\n"
     ]
    },
    {
     "name": "stderr",
     "output_type": "stream",
     "text": [
      "R[write to console]: Found2batches\n",
      "\n",
      "R[write to console]: Adjusting for0covariate(s) or covariate level(s)\n",
      "\n",
      "R[write to console]: Standardizing Data across genes\n",
      "\n",
      "R[write to console]: Fitting L/S model and finding priors\n",
      "\n",
      "R[write to console]: Finding parametric adjustments\n",
      "\n",
      "R[write to console]: Adjusting the Data\n",
      "\n",
      "\n",
      "R[write to console]: Correcting Label group 81\n",
      "\n"
     ]
    },
    {
     "name": "stdout",
     "output_type": "stream",
     "text": [
      "Found 2 genes with uniform expression within a single batch (all zeros); these will not be adjusted for batch.\n"
     ]
    },
    {
     "name": "stderr",
     "output_type": "stream",
     "text": [
      "R[write to console]: Found2batches\n",
      "\n",
      "R[write to console]: Adjusting for0covariate(s) or covariate level(s)\n",
      "\n",
      "R[write to console]: Standardizing Data across genes\n",
      "\n",
      "R[write to console]: Fitting L/S model and finding priors\n",
      "\n",
      "R[write to console]: Finding parametric adjustments\n",
      "\n",
      "R[write to console]: Adjusting the Data\n",
      "\n",
      "\n",
      "R[write to console]: Correcting Label group 82\n",
      "\n",
      "R[write to console]: Found2batches\n",
      "\n",
      "R[write to console]: Adjusting for0covariate(s) or covariate level(s)\n",
      "\n",
      "R[write to console]: Standardizing Data across genes\n",
      "\n",
      "R[write to console]: Fitting L/S model and finding priors\n",
      "\n",
      "R[write to console]: Finding parametric adjustments\n",
      "\n",
      "R[write to console]: Adjusting the Data\n",
      "\n",
      "\n",
      "R[write to console]: Correcting Label group 83\n",
      "\n"
     ]
    },
    {
     "name": "stdout",
     "output_type": "stream",
     "text": [
      "Found 4 genes with uniform expression within a single batch (all zeros); these will not be adjusted for batch.\n"
     ]
    },
    {
     "name": "stderr",
     "output_type": "stream",
     "text": [
      "R[write to console]: Found2batches\n",
      "\n",
      "R[write to console]: Adjusting for0covariate(s) or covariate level(s)\n",
      "\n",
      "R[write to console]: Standardizing Data across genes\n",
      "\n",
      "R[write to console]: Fitting L/S model and finding priors\n",
      "\n",
      "R[write to console]: Finding parametric adjustments\n",
      "\n",
      "R[write to console]: Adjusting the Data\n",
      "\n",
      "\n",
      "R[write to console]: Correcting Label group 84\n",
      "\n",
      "R[write to console]: Found2batches\n",
      "\n",
      "R[write to console]: Adjusting for0covariate(s) or covariate level(s)\n",
      "\n",
      "R[write to console]: Standardizing Data across genes\n",
      "\n",
      "R[write to console]: Fitting L/S model and finding priors\n",
      "\n",
      "R[write to console]: Finding parametric adjustments\n",
      "\n",
      "R[write to console]: Adjusting the Data\n",
      "\n",
      "\n",
      "R[write to console]: Correcting Label group 85\n",
      "\n",
      "R[write to console]: Using the 'mean only' version of ComBat\n",
      "\n",
      "R[write to console]: Found2batches\n",
      "\n",
      "R[write to console]: Note: one batch has only one sample, setting mean.only=TRUE\n",
      "\n",
      "R[write to console]: Adjusting for0covariate(s) or covariate level(s)\n",
      "\n",
      "R[write to console]: Standardizing Data across genes\n",
      "\n",
      "R[write to console]: Fitting L/S model and finding priors\n",
      "\n",
      "R[write to console]: Finding parametric adjustments\n",
      "\n",
      "R[write to console]: Adjusting the Data\n",
      "\n",
      "\n",
      "R[write to console]: Correcting Label group 86\n",
      "\n"
     ]
    },
    {
     "name": "stdout",
     "output_type": "stream",
     "text": [
      "Found 3 genes with uniform expression within a single batch (all zeros); these will not be adjusted for batch.\n"
     ]
    },
    {
     "name": "stderr",
     "output_type": "stream",
     "text": [
      "R[write to console]: Using the 'mean only' version of ComBat\n",
      "\n",
      "R[write to console]: Found2batches\n",
      "\n",
      "R[write to console]: Note: one batch has only one sample, setting mean.only=TRUE\n",
      "\n",
      "R[write to console]: Adjusting for0covariate(s) or covariate level(s)\n",
      "\n",
      "R[write to console]: Standardizing Data across genes\n",
      "\n",
      "R[write to console]: Fitting L/S model and finding priors\n",
      "\n",
      "R[write to console]: Finding parametric adjustments\n",
      "\n",
      "R[write to console]: Adjusting the Data\n",
      "\n",
      "\n",
      "R[write to console]: Correcting Label group 87\n",
      "\n"
     ]
    },
    {
     "name": "stdout",
     "output_type": "stream",
     "text": [
      "Found 2 genes with uniform expression within a single batch (all zeros); these will not be adjusted for batch.\n"
     ]
    },
    {
     "name": "stderr",
     "output_type": "stream",
     "text": [
      "R[write to console]: Found2batches\n",
      "\n",
      "R[write to console]: Adjusting for0covariate(s) or covariate level(s)\n",
      "\n",
      "R[write to console]: Standardizing Data across genes\n",
      "\n",
      "R[write to console]: Fitting L/S model and finding priors\n",
      "\n",
      "R[write to console]: Finding parametric adjustments\n",
      "\n",
      "R[write to console]: Adjusting the Data\n",
      "\n",
      "\n",
      "R[write to console]: Correcting Label group 88\n",
      "\n"
     ]
    },
    {
     "name": "stdout",
     "output_type": "stream",
     "text": [
      "Found 2 genes with uniform expression within a single batch (all zeros); these will not be adjusted for batch.\n"
     ]
    },
    {
     "name": "stderr",
     "output_type": "stream",
     "text": [
      "R[write to console]: Found2batches\n",
      "\n",
      "R[write to console]: Adjusting for0covariate(s) or covariate level(s)\n",
      "\n",
      "R[write to console]: Standardizing Data across genes\n",
      "\n",
      "R[write to console]: Fitting L/S model and finding priors\n",
      "\n",
      "R[write to console]: Finding parametric adjustments\n",
      "\n",
      "R[write to console]: Adjusting the Data\n",
      "\n",
      "\n",
      "R[write to console]: Correcting Label group 89\n",
      "\n"
     ]
    },
    {
     "name": "stdout",
     "output_type": "stream",
     "text": [
      "Found 3 genes with uniform expression within a single batch (all zeros); these will not be adjusted for batch.\n"
     ]
    },
    {
     "name": "stderr",
     "output_type": "stream",
     "text": [
      "R[write to console]: Found2batches\n",
      "\n",
      "R[write to console]: Adjusting for0covariate(s) or covariate level(s)\n",
      "\n",
      "R[write to console]: Standardizing Data across genes\n",
      "\n",
      "R[write to console]: Fitting L/S model and finding priors\n",
      "\n",
      "R[write to console]: Finding parametric adjustments\n",
      "\n",
      "R[write to console]: Adjusting the Data\n",
      "\n",
      "\n",
      "R[write to console]: Label group 90 only contains cells from batch 2\n",
      "\n",
      "R[write to console]: Correcting Label group 91\n",
      "\n"
     ]
    },
    {
     "name": "stdout",
     "output_type": "stream",
     "text": [
      "Found 3 genes with uniform expression within a single batch (all zeros); these will not be adjusted for batch.\n"
     ]
    },
    {
     "name": "stderr",
     "output_type": "stream",
     "text": [
      "R[write to console]: Found2batches\n",
      "\n",
      "R[write to console]: Adjusting for0covariate(s) or covariate level(s)\n",
      "\n",
      "R[write to console]: Standardizing Data across genes\n",
      "\n",
      "R[write to console]: Fitting L/S model and finding priors\n",
      "\n",
      "R[write to console]: Finding parametric adjustments\n",
      "\n",
      "R[write to console]: Adjusting the Data\n",
      "\n",
      "\n",
      "R[write to console]: Correcting Label group 92\n",
      "\n"
     ]
    },
    {
     "name": "stdout",
     "output_type": "stream",
     "text": [
      "Found 1 genes with uniform expression within a single batch (all zeros); these will not be adjusted for batch.\n"
     ]
    },
    {
     "name": "stderr",
     "output_type": "stream",
     "text": [
      "R[write to console]: Found2batches\n",
      "\n",
      "R[write to console]: Adjusting for0covariate(s) or covariate level(s)\n",
      "\n",
      "R[write to console]: Standardizing Data across genes\n",
      "\n",
      "R[write to console]: Fitting L/S model and finding priors\n",
      "\n",
      "R[write to console]: Finding parametric adjustments\n",
      "\n",
      "R[write to console]: Adjusting the Data\n",
      "\n",
      "\n",
      "R[write to console]: Correcting Label group 93\n",
      "\n"
     ]
    },
    {
     "name": "stdout",
     "output_type": "stream",
     "text": [
      "Found 2 genes with uniform expression within a single batch (all zeros); these will not be adjusted for batch.\n"
     ]
    },
    {
     "name": "stderr",
     "output_type": "stream",
     "text": [
      "R[write to console]: Found2batches\n",
      "\n",
      "R[write to console]: Adjusting for0covariate(s) or covariate level(s)\n",
      "\n",
      "R[write to console]: Standardizing Data across genes\n",
      "\n",
      "R[write to console]: Fitting L/S model and finding priors\n",
      "\n",
      "R[write to console]: Finding parametric adjustments\n",
      "\n",
      "R[write to console]: Adjusting the Data\n",
      "\n",
      "\n",
      "R[write to console]: Correcting Label group 94\n",
      "\n"
     ]
    },
    {
     "name": "stdout",
     "output_type": "stream",
     "text": [
      "Found 1 genes with uniform expression within a single batch (all zeros); these will not be adjusted for batch.\n"
     ]
    },
    {
     "name": "stderr",
     "output_type": "stream",
     "text": [
      "R[write to console]: Found2batches\n",
      "\n",
      "R[write to console]: Adjusting for0covariate(s) or covariate level(s)\n",
      "\n",
      "R[write to console]: Standardizing Data across genes\n",
      "\n",
      "R[write to console]: Fitting L/S model and finding priors\n",
      "\n",
      "R[write to console]: Finding parametric adjustments\n",
      "\n",
      "R[write to console]: Adjusting the Data\n",
      "\n",
      "\n",
      "R[write to console]: Correcting Label group 95\n",
      "\n",
      "R[write to console]: Found2batches\n",
      "\n",
      "R[write to console]: Adjusting for0covariate(s) or covariate level(s)\n",
      "\n",
      "R[write to console]: Standardizing Data across genes\n",
      "\n",
      "R[write to console]: Fitting L/S model and finding priors\n",
      "\n",
      "R[write to console]: Finding parametric adjustments\n",
      "\n",
      "R[write to console]: Adjusting the Data\n",
      "\n",
      "\n",
      "R[write to console]: Correcting Label group 96\n",
      "\n",
      "R[write to console]: Using the 'mean only' version of ComBat\n",
      "\n",
      "R[write to console]: Found2batches\n",
      "\n",
      "R[write to console]: Note: one batch has only one sample, setting mean.only=TRUE\n",
      "\n",
      "R[write to console]: Adjusting for0covariate(s) or covariate level(s)\n",
      "\n",
      "R[write to console]: Standardizing Data across genes\n",
      "\n",
      "R[write to console]: Fitting L/S model and finding priors\n",
      "\n",
      "R[write to console]: Finding parametric adjustments\n",
      "\n",
      "R[write to console]: Adjusting the Data\n",
      "\n",
      "\n",
      "R[write to console]: Label group 97 only contains cells from batch 1\n",
      "\n",
      "R[write to console]: Correcting Label group 98\n",
      "\n"
     ]
    },
    {
     "name": "stdout",
     "output_type": "stream",
     "text": [
      "Found 2 genes with uniform expression within a single batch (all zeros); these will not be adjusted for batch.\n"
     ]
    },
    {
     "name": "stderr",
     "output_type": "stream",
     "text": [
      "R[write to console]: Found2batches\n",
      "\n",
      "R[write to console]: Adjusting for0covariate(s) or covariate level(s)\n",
      "\n",
      "R[write to console]: Standardizing Data across genes\n",
      "\n",
      "R[write to console]: Fitting L/S model and finding priors\n",
      "\n",
      "R[write to console]: Finding parametric adjustments\n",
      "\n",
      "R[write to console]: Adjusting the Data\n",
      "\n",
      "\n",
      "R[write to console]: Correcting Label group 99\n",
      "\n"
     ]
    },
    {
     "name": "stdout",
     "output_type": "stream",
     "text": [
      "Found 6 genes with uniform expression within a single batch (all zeros); these will not be adjusted for batch.\n"
     ]
    },
    {
     "name": "stderr",
     "output_type": "stream",
     "text": [
      "R[write to console]: Found2batches\n",
      "\n",
      "R[write to console]: Adjusting for0covariate(s) or covariate level(s)\n",
      "\n",
      "R[write to console]: Standardizing Data across genes\n",
      "\n",
      "R[write to console]: Fitting L/S model and finding priors\n",
      "\n",
      "R[write to console]: Finding parametric adjustments\n",
      "\n",
      "R[write to console]: Adjusting the Data\n",
      "\n",
      "\n",
      "R[write to console]: Label group 100 only contains cells from batch 2\n",
      "\n",
      "R[write to console]: Done!\n",
      "\n"
     ]
    }
   ],
   "source": [
    "%%R -i frame \n",
    "library(cyCombine)\n",
    "overlap <- c('CD4', 'CD3', 'CD38', 'CD28', 'CD57', 'HLA-DR', 'CD45RO', \n",
    "              'CD25', 'CCR7', 'CD11c', 'CD19', 'CD56', 'CD27', 'CD16', \n",
    "              'TCRgd', 'CD127', 'CD161', 'CD8', 'CD14')\n",
    "\n",
    "# import df from global environment\n",
    "# Batch correct based on overlapping markers\n",
    "co_corrected <- batch_correct(frame,\n",
    "                              covar = \"condition\",\n",
    "                              xdim = 10,\n",
    "                              ydim = 10,\n",
    "                              norm_method = 'rank',\n",
    "                              markers = overlap)\n",
    "\n",
    "write.csv(co_corrected, '/home/hajar/Dropbox/phd1/CyMET/data/data_corrected.csv')"
   ]
  },
  {
   "cell_type": "markdown",
   "id": "boolean-dublin",
   "metadata": {},
   "source": [
    "### (6) Load batch corrected data"
   ]
  },
  {
   "cell_type": "code",
   "execution_count": 17,
   "id": "corrected-minutes",
   "metadata": {},
   "outputs": [
    {
     "data": {
      "text/html": [
       "<div>\n",
       "<style scoped>\n",
       "    .dataframe tbody tr th:only-of-type {\n",
       "        vertical-align: middle;\n",
       "    }\n",
       "\n",
       "    .dataframe tbody tr th {\n",
       "        vertical-align: top;\n",
       "    }\n",
       "\n",
       "    .dataframe thead th {\n",
       "        text-align: right;\n",
       "    }\n",
       "</style>\n",
       "<table border=\"1\" class=\"dataframe\">\n",
       "  <thead>\n",
       "    <tr style=\"text-align: right;\">\n",
       "      <th></th>\n",
       "      <th>Unnamed: 0</th>\n",
       "      <th>id</th>\n",
       "      <th>label</th>\n",
       "      <th>CD4</th>\n",
       "      <th>CD3</th>\n",
       "      <th>CD38</th>\n",
       "      <th>CD28</th>\n",
       "      <th>CD57</th>\n",
       "      <th>HLA-DR</th>\n",
       "      <th>CD45RO</th>\n",
       "      <th>...</th>\n",
       "      <th>CD27</th>\n",
       "      <th>CD16</th>\n",
       "      <th>TCRgd</th>\n",
       "      <th>CD127</th>\n",
       "      <th>CD161</th>\n",
       "      <th>CD8</th>\n",
       "      <th>CD14</th>\n",
       "      <th>study</th>\n",
       "      <th>sample</th>\n",
       "      <th>condition</th>\n",
       "    </tr>\n",
       "  </thead>\n",
       "  <tbody>\n",
       "    <tr>\n",
       "      <th>921</th>\n",
       "      <td>922</td>\n",
       "      <td>922</td>\n",
       "      <td>96</td>\n",
       "      <td>0.049592</td>\n",
       "      <td>0.017947</td>\n",
       "      <td>2.399522</td>\n",
       "      <td>0.036101</td>\n",
       "      <td>1.218071</td>\n",
       "      <td>1.675111</td>\n",
       "      <td>2.169348</td>\n",
       "      <td>...</td>\n",
       "      <td>1.419763</td>\n",
       "      <td>2.716930</td>\n",
       "      <td>2.033725</td>\n",
       "      <td>0.013405</td>\n",
       "      <td>0.002072</td>\n",
       "      <td>0.011974</td>\n",
       "      <td>1.418271</td>\n",
       "      <td>1</td>\n",
       "      <td>AP-02_CyTOF_CD45</td>\n",
       "      <td>healthy</td>\n",
       "    </tr>\n",
       "    <tr>\n",
       "      <th>1347</th>\n",
       "      <td>1348</td>\n",
       "      <td>1348</td>\n",
       "      <td>20</td>\n",
       "      <td>0.560716</td>\n",
       "      <td>0.000000</td>\n",
       "      <td>2.972178</td>\n",
       "      <td>0.001193</td>\n",
       "      <td>0.139430</td>\n",
       "      <td>1.656522</td>\n",
       "      <td>0.000000</td>\n",
       "      <td>...</td>\n",
       "      <td>0.288866</td>\n",
       "      <td>4.092747</td>\n",
       "      <td>0.242165</td>\n",
       "      <td>0.615301</td>\n",
       "      <td>2.324675</td>\n",
       "      <td>0.025305</td>\n",
       "      <td>0.509367</td>\n",
       "      <td>2</td>\n",
       "      <td>r/200522_Barcode_2_C04</td>\n",
       "      <td>disease</td>\n",
       "    </tr>\n",
       "    <tr>\n",
       "      <th>639</th>\n",
       "      <td>640</td>\n",
       "      <td>640</td>\n",
       "      <td>56</td>\n",
       "      <td>0.021460</td>\n",
       "      <td>0.008685</td>\n",
       "      <td>2.123425</td>\n",
       "      <td>0.449583</td>\n",
       "      <td>0.019407</td>\n",
       "      <td>0.009840</td>\n",
       "      <td>3.107650</td>\n",
       "      <td>...</td>\n",
       "      <td>1.038683</td>\n",
       "      <td>4.445386</td>\n",
       "      <td>3.548361</td>\n",
       "      <td>0.016461</td>\n",
       "      <td>0.000300</td>\n",
       "      <td>0.014579</td>\n",
       "      <td>1.999363</td>\n",
       "      <td>1</td>\n",
       "      <td>AP-03_CyTOF_CD45</td>\n",
       "      <td>healthy</td>\n",
       "    </tr>\n",
       "    <tr>\n",
       "      <th>1733</th>\n",
       "      <td>1734</td>\n",
       "      <td>1734</td>\n",
       "      <td>77</td>\n",
       "      <td>0.235333</td>\n",
       "      <td>0.101020</td>\n",
       "      <td>2.462958</td>\n",
       "      <td>1.094629</td>\n",
       "      <td>0.600432</td>\n",
       "      <td>1.185699</td>\n",
       "      <td>1.910532</td>\n",
       "      <td>...</td>\n",
       "      <td>0.000000</td>\n",
       "      <td>2.658660</td>\n",
       "      <td>0.465065</td>\n",
       "      <td>0.000000</td>\n",
       "      <td>0.047210</td>\n",
       "      <td>0.000000</td>\n",
       "      <td>2.647163</td>\n",
       "      <td>2</td>\n",
       "      <td>r/200707_Barcode_8_CV24</td>\n",
       "      <td>healthy</td>\n",
       "    </tr>\n",
       "    <tr>\n",
       "      <th>219</th>\n",
       "      <td>220</td>\n",
       "      <td>220</td>\n",
       "      <td>10</td>\n",
       "      <td>0.240160</td>\n",
       "      <td>0.122760</td>\n",
       "      <td>3.458516</td>\n",
       "      <td>0.664939</td>\n",
       "      <td>3.260562</td>\n",
       "      <td>0.179850</td>\n",
       "      <td>0.052589</td>\n",
       "      <td>...</td>\n",
       "      <td>0.000000</td>\n",
       "      <td>4.421995</td>\n",
       "      <td>1.647384</td>\n",
       "      <td>0.024556</td>\n",
       "      <td>1.273243</td>\n",
       "      <td>0.128186</td>\n",
       "      <td>0.000000</td>\n",
       "      <td>1</td>\n",
       "      <td>AP-02_CyTOF_CD45</td>\n",
       "      <td>healthy</td>\n",
       "    </tr>\n",
       "  </tbody>\n",
       "</table>\n",
       "<p>5 rows × 25 columns</p>\n",
       "</div>"
      ],
      "text/plain": [
       "      Unnamed: 0    id  label       CD4       CD3      CD38      CD28  \\\n",
       "921          922   922     96  0.049592  0.017947  2.399522  0.036101   \n",
       "1347        1348  1348     20  0.560716  0.000000  2.972178  0.001193   \n",
       "639          640   640     56  0.021460  0.008685  2.123425  0.449583   \n",
       "1733        1734  1734     77  0.235333  0.101020  2.462958  1.094629   \n",
       "219          220   220     10  0.240160  0.122760  3.458516  0.664939   \n",
       "\n",
       "          CD57    HLA-DR    CD45RO  ...      CD27      CD16     TCRgd  \\\n",
       "921   1.218071  1.675111  2.169348  ...  1.419763  2.716930  2.033725   \n",
       "1347  0.139430  1.656522  0.000000  ...  0.288866  4.092747  0.242165   \n",
       "639   0.019407  0.009840  3.107650  ...  1.038683  4.445386  3.548361   \n",
       "1733  0.600432  1.185699  1.910532  ...  0.000000  2.658660  0.465065   \n",
       "219   3.260562  0.179850  0.052589  ...  0.000000  4.421995  1.647384   \n",
       "\n",
       "         CD127     CD161       CD8      CD14  study                   sample  \\\n",
       "921   0.013405  0.002072  0.011974  1.418271      1         AP-02_CyTOF_CD45   \n",
       "1347  0.615301  2.324675  0.025305  0.509367      2   r/200522_Barcode_2_C04   \n",
       "639   0.016461  0.000300  0.014579  1.999363      1         AP-03_CyTOF_CD45   \n",
       "1733  0.000000  0.047210  0.000000  2.647163      2  r/200707_Barcode_8_CV24   \n",
       "219   0.024556  1.273243  0.128186  0.000000      1         AP-02_CyTOF_CD45   \n",
       "\n",
       "      condition  \n",
       "921     healthy  \n",
       "1347    disease  \n",
       "639     healthy  \n",
       "1733    healthy  \n",
       "219     healthy  \n",
       "\n",
       "[5 rows x 25 columns]"
      ]
     },
     "execution_count": 17,
     "metadata": {},
     "output_type": "execute_result"
    }
   ],
   "source": [
    "df = pd.read_csv('/home/hajar/Dropbox/phd1/CyMET/data/data_corrected.csv').rename(columns={\"file\": \"sample\", \n",
    "                                                                                           \"batch\":\"study\"}) \n",
    "df.sample(5)"
   ]
  },
  {
   "cell_type": "markdown",
   "id": "neither-sample",
   "metadata": {},
   "source": [
    "### (7) Run meta-prediction\n",
    "#### Load model"
   ]
  },
  {
   "cell_type": "code",
   "execution_count": 18,
   "id": "delayed-syntax",
   "metadata": {},
   "outputs": [
    {
     "name": "stdout",
     "output_type": "stream",
     "text": [
      "Immunopred Successfully Loaded!\n"
     ]
    }
   ],
   "source": [
    "from tensorflow.keras.models import model_from_json #load required packages\n",
    "json_file = open('/home/hajar/Dropbox/phd1/CyMET/immunopred/model.json', 'r') #open the model\n",
    "model_tmp = json_file.read() #read the file\n",
    "json_file.close() #close the file\n",
    "\n",
    "model = model_from_json(model_tmp) # load model weights\n",
    "model.load_weights('/home/hajar/Dropbox/phd1/CyMET/immunopred/model_weights.h5')\n",
    "\n",
    "print(\"Immunopred Successfully Loaded!\")"
   ]
  },
  {
   "cell_type": "markdown",
   "id": "multiple-detail",
   "metadata": {},
   "source": [
    "#### Predict cells"
   ]
  },
  {
   "cell_type": "code",
   "execution_count": 29,
   "id": "south-integrity",
   "metadata": {},
   "outputs": [
    {
     "name": "stdout",
     "output_type": "stream",
     "text": [
      "[1, 2]\n",
      "Predicting:  1 | 1  out of  2\n",
      "      CD66b is missing - replaced with 0\n",
      "number of cells in training: 1000\n",
      "32/32 [==============================] - 0s 706us/step\n",
      "      done.\n",
      "\n",
      "\n",
      "Predicting:  2 | 2  out of  2\n",
      "      CD66b is missing - replaced with 0\n",
      "number of cells in training: 1000\n",
      "32/32 [==============================] - 0s 618us/step\n",
      "      done.\n",
      "\n",
      "\n",
      "Cells successfully predicted!\n"
     ]
    }
   ],
   "source": [
    "y_pred = predict_cells(df) #gives you the prediction confidence for each cell type\n",
    "\n",
    "preds = y_pred.argmax(axis=1) #gives you the actual cell type with highest confidence\n",
    "df['cell_type'] = preds # map the cell type number to name!\n",
    "\n",
    "#get the confidence score for final prediction:\n",
    "scores = []\n",
    "for x,y in zip(df.index, preds):\n",
    "    sc = y_pred[x][y] #index and then the position of the highest score\n",
    "    scores.append(sc)\n",
    "df['score'] = scores"
   ]
  },
  {
   "cell_type": "code",
   "execution_count": null,
   "id": "enhanced-model",
   "metadata": {},
   "outputs": [],
   "source": []
  },
  {
   "cell_type": "code",
   "execution_count": null,
   "id": "russian-protein",
   "metadata": {},
   "outputs": [],
   "source": []
  },
  {
   "cell_type": "code",
   "execution_count": null,
   "id": "martial-electronics",
   "metadata": {},
   "outputs": [],
   "source": []
  }
 ],
 "metadata": {
  "kernelspec": {
   "display_name": "Python 3",
   "language": "python",
   "name": "python3"
  },
  "language_info": {
   "codemirror_mode": {
    "name": "ipython",
    "version": 3
   },
   "file_extension": ".py",
   "mimetype": "text/x-python",
   "name": "python",
   "nbconvert_exporter": "python",
   "pygments_lexer": "ipython3",
   "version": "3.9.5"
  }
 },
 "nbformat": 4,
 "nbformat_minor": 5
}
